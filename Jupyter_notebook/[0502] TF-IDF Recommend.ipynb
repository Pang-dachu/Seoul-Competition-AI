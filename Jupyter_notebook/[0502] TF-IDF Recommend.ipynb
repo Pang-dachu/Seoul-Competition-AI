{
 "cells": [
  {
   "cell_type": "markdown",
   "id": "9ed3d278",
   "metadata": {},
   "source": [
    "### Import PART"
   ]
  },
  {
   "cell_type": "code",
   "execution_count": 28,
   "id": "ff5f4b44",
   "metadata": {},
   "outputs": [],
   "source": [
    "from sklearn.feature_extraction.text import TfidfVectorizer\n",
    "from sklearn.metrics.pairwise import cosine_similarity\n",
    "\n",
    "from konlpy.tag import Mecab\n",
    "from datetime import datetime as dt\n",
    "\n",
    "import numpy as np\n",
    "import pandas as pd \n",
    "import matplotlib.pyplot as plt\n",
    "import seaborn as sns\n",
    "\n",
    "import tensorflow as tf \n",
    "import re\n",
    "import requests\n",
    "import json\n",
    "\n",
    "import warnings\n",
    "warnings.filterwarnings(\"ignore\")"
   ]
  },
  {
   "cell_type": "markdown",
   "id": "1b250060",
   "metadata": {},
   "source": [
    "### json_to_data PART"
   ]
  },
  {
   "cell_type": "code",
   "execution_count": 3,
   "id": "efefa2e6",
   "metadata": {},
   "outputs": [],
   "source": [
    "## 필요 라이브러리 \n",
    "\n",
    "API_KEY = \"61484f6245666f7838344a79694e77\"\n",
    "\n",
    "서울시50플러스포털교육정보 = f\"http://openapi.seoul.go.kr:8088/{API_KEY}/json/FiftyPotalEduInfo/1/5/\"\n",
    "서울시어르신취업지원센터교육정보 = f\"http://openapi.seoul.go.kr:8088/{API_KEY}/json/tbViewProgram/1/5/\"\n",
    "\n",
    "import requests\n",
    "import json\n",
    "\n",
    "API_KEY = \"61484f6245666f7838344a79694e77\"\n",
    "\n",
    "\n",
    "# 두개의 데이터에 대해서 받을수 있는 URL 주소이므로 \n",
    "# 다른 URL 사용시에 URL 끝 부분에 대한 확인 필요\n",
    "서울시50플러스포털교육정보 = f\"http://openapi.seoul.go.kr:8088/{API_KEY}/json/FiftyPotalEduInfo/1/5/\"\n",
    "서울시어르신취업지원센터교육정보 = f\"http://openapi.seoul.go.kr:8088/{API_KEY}/json/tbViewProgram/1/5/\"\n",
    "\n",
    "def get_dataframe(API_KEY, DATA_URL) :\n",
    "    url = DATA_URL\n",
    "    data = pd.DataFrame()\n",
    "    \n",
    "    response = requests.get(url)\n",
    "    response_data = response.content.decode()\n",
    "    json_data = json.loads(response_data)\n",
    "    \n",
    "    # 데이터 row 갯수 확인\n",
    "    # 한번에 1000개 단위로 받아오는 것이 가능\n",
    "    list_total_count = json_data[list( json_data.keys() )[0]]['list_total_count']\n",
    "    \n",
    "    # 데이터 갯수에 따라 반복 실행하여 DataFrame 생성하기 \n",
    "    count = list_total_count // 1000\n",
    "    les_count = list_total_count % 1000\n",
    "\n",
    "    # 데이터 갯수에 따른 요청 및 데이터 프레임 생성 과정\n",
    "    for i in range(count) :\n",
    "        temp_url = url[:-4]+str(1000*i + 1) + \"/\" + str(1000*(i+1)) \n",
    "        response = requests.get(temp_url)\n",
    "\n",
    "        temp_data = response.content.decode()\n",
    "        json_data = json.loads(temp_data)\n",
    "\n",
    "        temp_df = pd.json_normalize(json_data[list( json_data.keys() )[0]]['row'])\n",
    "        data = pd.concat( [data, temp_df] )\n",
    "    \n",
    "    temp_url =  url[:-4]+str(1000*count + 1) + \"/\" + str(1000*count + les_count) \n",
    "    response = requests.get(temp_url)\n",
    "\n",
    "    temp_data = response.content.decode()\n",
    "    json_data = json.loads(temp_data)\n",
    "\n",
    "    temp_df = pd.json_normalize(json_data[list( json_data.keys() )[0]]['row'])\n",
    "    data = pd.concat( [data, temp_df] )\n",
    "    \n",
    "    return data"
   ]
  },
  {
   "cell_type": "code",
   "execution_count": null,
   "id": "adb08824",
   "metadata": {},
   "outputs": [],
   "source": [
    "# 두가지 데이터에 대한 결합 \n",
    "def concat_data(data1, data2) : \n",
    "    # 컬럼명 통일 시키는 과정 필요 \n",
    "    data1.columns = ['교육넘버', '교육명', '교육신청시작일', '교육신청종료일', '교육시작일', '교육종료일', \"수업시간\", '수강정원', '교육상태', '교육비용', '강좌상세화면']\n",
    "    data2.columns = [\"교육넘버\", \"교육명\", \"교육시작일\", \"교육종료일\", \"교육신청시작일\", \"교육신청종료일\", \"수강정원\", \"교육비용\", \"교육상태\", \"강좌상세화면\"]\n",
    "    \n",
    "    # 컬럼명 순서 통일 \n",
    "    col_sort = ['교육넘버', '교육명', '교육신청시작일', '교육신청종료일', '교육시작일', '교육종료일',  '수강정원','교육상태', '교육비용', '강좌상세화면']\n",
    "    \n",
    "    data_1 = data1[ col_sort ]\n",
    "    data_2 = data2[ col_sort ]\n",
    "    # 이후 concat 진행 \n",
    "    data = pd.concat([data_1, data_2])\n",
    "    \n",
    "    # data return \n",
    "    return data\n",
    "\n",
    "data_01 = get_dataframe(API_KEY, 서울시50플러스포털교육정보)\n",
    "data_02 = get_dataframe(API_KEY, 서울시어르신취업지원센터교육정보)\n",
    "\n",
    "data_01.shape, data_02.shape\n",
    "\n",
    "total_data = concat_data(data_01, data_02)"
   ]
  },
  {
   "cell_type": "markdown",
   "id": "740e02cd",
   "metadata": {},
   "source": [
    "### preprocessing PART"
   ]
  },
  {
   "cell_type": "code",
   "execution_count": 4,
   "id": "b84693cf",
   "metadata": {},
   "outputs": [],
   "source": [
    "# 불용어 처리 \n",
    "def clean_sentence(sentence) :\n",
    "    # 날짜, 기수, 차수 제거 \n",
    "    sentence = re.sub(r\"[0-9]+년\", r\" \", sentence)\n",
    "    sentence = re.sub(r\"[0-9]+차\", r\" \", sentence)\n",
    "    sentence = re.sub(r\"[0-9]+기\", r\" \", sentence)\n",
    "    sentence = re.sub(r\"[0-9]+월\", r\" \", sentence)\n",
    "    sentence = re.sub(r\"[0-9]+일\", r\" \", sentence)\n",
    "    sentence = re.sub(r\"[0-9]{1,2}.[0-9]{1,2}\", r\" \", sentence)\n",
    "    \n",
    "    # (주) , (요일)\n",
    "    sentence = re.sub(r\"\\(+[가-힣]+\\)\", r\" \", sentence)\n",
    "    #sentence = re.sub(r\"[/s]\\(.\\)[/s]\", r\" \", sentence)\n",
    "    \n",
    "    # 주차, 요일 형식 제거 \n",
    "    # sentence = re.sub(r\"[가-힣]{2}주\", r\" \", sentence) \n",
    "    # \"알려주는\" 단어에 영향이 생김\n",
    "    \n",
    "    sentence = re.sub(r\"[가-힣]째주\", r\" \", sentence) \n",
    "#     sentence = re.sub(r\"둘째주\", r\" \", sentence) \n",
    "#     sentence = re.sub(r\"셋째주\", r\" \", sentence) \n",
    "#     sentence = re.sub(r\"넷째주\", r\" \", sentence) \n",
    "    \n",
    "    sentence = re.sub(r\"[가-힣]{1}요일\", r\" \", sentence)\n",
    "    \n",
    "    # 마감 키워드 필요 없음\n",
    "    sentence = re.sub(r\"마감\", r\" \", sentence)\n",
    "    \n",
    "    # 50이라는 숫자 필요 없음 \n",
    "    sentence = re.sub(r\"50\", r\" \", sentence)\n",
    "    # 자격증 n급 필요 없을듯 \n",
    "    sentence = re.sub(r\"[0-9]+급\", r\" \", sentence)\n",
    "    # n단계도 필요 없을듯 \n",
    "    sentence = re.sub(r\"[0-9]+단계\", r\" \", sentence)\n",
    "    \n",
    "    sentence = re.sub(r\"[^0-9가-힣a-zA-Z]\", r\" \", sentence)\n",
    "    return sentence"
   ]
  },
  {
   "cell_type": "code",
   "execution_count": 5,
   "id": "390f5b22",
   "metadata": {},
   "outputs": [],
   "source": [
    "def tokenize(original_sent, nouns=False):\n",
    "    tokenizer = Mecab()\n",
    "\n",
    "    # tokenizer를 이용하여 original_sent를 토큰화하여 tokenized_sent에 저장하고, 이를 반환합니다.\n",
    "    sentence = original_sent.replace('\\n', '').strip()\n",
    "    if nouns:       \n",
    "        # tokenizer.nouns(sentence) -> 명사만 추출\n",
    "        tokens = tokenizer.nouns(sentence)\n",
    "    else:\n",
    "        tokens = tokenizer.morphs(sentence)\n",
    "        \n",
    "    tokens = ' '.join(tokens)\n",
    "    \n",
    "    return tokens"
   ]
  },
  {
   "cell_type": "code",
   "execution_count": 6,
   "id": "4b85ff65",
   "metadata": {},
   "outputs": [],
   "source": [
    "def date_preprocessing(dataframe) :\n",
    "\n",
    "    ## 날짜 정보 datetime\n",
    "\n",
    "    # 표현 형식 변경\n",
    "    dataframe[\"교육신청시작일\"] = dataframe[\"교육신청시작일\"].apply(lambda x : re.sub(r\"\\.\", r\"-\", x) )\n",
    "    dataframe[\"교육신청종료일\"] = dataframe[\"교육신청종료일\"].apply(lambda x : re.sub(r\"\\.\", r\"-\", x) )\n",
    "    dataframe[\"교육시작일\"] = dataframe[\"교육시작일\"].apply(lambda x : re.sub(r\"\\.\", r\"-\", x) )\n",
    "    dataframe[\"교육종료일\"] = dataframe[\"교육종료일\"].apply(lambda x : re.sub(r\"\\.\", r\"-\", x) )\n",
    "    \n",
    "    # int, datetime 형태 변경 \n",
    "    #dataframe = dataframe.astype({\"수강정원\" : \"int\"})\n",
    "    date_trans_col = [\"교육신청시작일\",\"교육신청종료일\",\"교육시작일\",\"교육종료일\"]\n",
    "\n",
    "    for col in date_trans_col : \n",
    "        dataframe[col] = pd.to_datetime( dataframe[col] )\n",
    "        \n",
    "    # 교육명 불용어 처리 \n",
    "    dataframe[\"clean_sentence\"] = dataframe[\"교육명\"].apply(lambda x : clean_sentence(x) )\n",
    "    \n",
    "    # 교육명 mecab 명사 토크나이징\n",
    "    dataframe[\"mecab\"] = dataframe[\"clean_sentence\"].apply(lambda x : tokenize(x, True) ) \n",
    "    \n",
    "    # TF-IDF 방식을 사용하기 위해 mecab 컬럼에 대해 각 데이터 string 형태로 변경 \n",
    "    # dataframe[\"mecab\"] = dataframe[\"mecab\"].apply(lambda x : str(x) for x in dataframe[\"mecab\"])\n",
    "    \n",
    "    return dataframe"
   ]
  },
  {
   "cell_type": "markdown",
   "id": "cb4aaf90",
   "metadata": {},
   "source": [
    "### Similarity PART"
   ]
  },
  {
   "cell_type": "code",
   "execution_count": 7,
   "id": "5fa78d92",
   "metadata": {},
   "outputs": [],
   "source": [
    "# 코사인 유사도 \n",
    "def l1_normalize(v):\n",
    "  norm = np.sum(v)\n",
    "  return v / norm"
   ]
  },
  {
   "cell_type": "code",
   "execution_count": 8,
   "id": "00b614f4",
   "metadata": {},
   "outputs": [],
   "source": [
    "def cosine_similarity_value(vec_1, vec_2):\n",
    "  return round(cosine_similarity(vec_1, vec_2)[0][0], 3)"
   ]
  },
  {
   "cell_type": "code",
   "execution_count": 9,
   "id": "9735c6c8",
   "metadata": {},
   "outputs": [],
   "source": [
    "def possible_edu (dataframe) :\n",
    "    today = f\"{dt.today().year}-{dt.today().month}-{dt.today().day}\"\n",
    "    \n",
    "    # 수강 신청이 가능한 경우 \n",
    "    # 1. 교육 상태가 마감이 아닌 경우 \n",
    "    cond_01 = (dataframe[\"교육상태\"] == \"마감\")\n",
    "\n",
    "    # 2. 교육 신청 종료일이 현재 날짜를 지나지 않은 경우\n",
    "    cond_02 = (dataframe[\"교육신청종료일\"] > today)\n",
    "    \n",
    "    temp_data = dataframe.loc[ ~cond_01 & cond_02 ]\n",
    "\n",
    "    return temp_data"
   ]
  },
  {
   "cell_type": "code",
   "execution_count": 20,
   "id": "cdeb85d5",
   "metadata": {},
   "outputs": [],
   "source": [
    "def edu_recommend(input_data, data, vectorizer) :\n",
    "    \n",
    "    # 입력 단어에 대한 임시 데이터 프레임 생성    \n",
    "    temp = pd.DataFrame({\n",
    "        # \"교육넘버\" : \"0000\",\n",
    "        \"교육명\": [input_data],\n",
    "        \"clean_sentence\" : clean_sentence(input_data),\n",
    "         \"mecab\" : [\"123\"]\n",
    "    })\n",
    "\n",
    "    temp[\"mecab\"] = temp[\"clean_sentence\"].apply(lambda x : tokenize(x, True) )\n",
    "    # temp[\"mecab\"] = temp[\"mecab\"].apply(lambda x : str(x) for x in temp[\"mecab\"])\n",
    "    \n",
    "    # 검색 단어를 포함한 전체 데이터 프레임 \n",
    "    temp_total_data = data[::]\n",
    "    \n",
    "    temp_total_data = pd.concat([temp_total_data,temp])\n",
    "    temp_total_data = temp_total_data.reset_index( drop=True )\n",
    "    \n",
    "    # TF-IDF 벡터화 \n",
    "    #tfidf_vectorizer = TfidfVectorizer()\n",
    "    #tfidf_mecab = tfidf_vectorizer.fit( temp_total_data[\"mecab\"] )\n",
    "    tfidf_vector = vectorizer.transform( temp_total_data[\"mecab\"] )\n",
    "    tfidf_norm_l1 = l1_normalize(tfidf_vector)\n",
    "    \n",
    "    \n",
    "    # 검색 단어 \n",
    "    target = tfidf_norm_l1[-1]\n",
    "    \n",
    "    # 코사인 유사도 적용\n",
    "    cosin_result = []\n",
    "\n",
    "    for i in tfidf_norm_l1 :\n",
    "        cosin_result.append( cosine_similarity_value(target, i) )\n",
    "        \n",
    "    temp_total_data[\"cosin\"] = cosin_result\n",
    "\n",
    "\n",
    "    temp = temp_total_data.loc[ temp_total_data[\"cosin\"] > 0 ]\n",
    "    temp = temp.sort_values([\"cosin\"], ascending=False)[1:6]\n",
    "    \n",
    "    if temp.empty :\n",
    "            print(\"추천 정보가 없습니다.\")\n",
    "            exit()\n",
    "\n",
    "    for i,j in zip(temp[\"교육명\"], temp[\"cosin\"]):\n",
    "        print( i, j )"
   ]
  },
  {
   "cell_type": "markdown",
   "id": "a5b8aeb2",
   "metadata": {},
   "source": [
    "### Excute PART"
   ]
  },
  {
   "cell_type": "code",
   "execution_count": 13,
   "id": "925d7640",
   "metadata": {},
   "outputs": [],
   "source": [
    "total_data = date_preprocessing(total_data)"
   ]
  },
  {
   "cell_type": "code",
   "execution_count": 27,
   "id": "19388f2e",
   "metadata": {},
   "outputs": [
    {
     "data": {
      "text/plain": [
       "(10743, 12)"
      ]
     },
     "execution_count": 27,
     "metadata": {},
     "output_type": "execute_result"
    }
   ],
   "source": [
    "total_data.shape"
   ]
  },
  {
   "cell_type": "code",
   "execution_count": 14,
   "id": "912b79f3",
   "metadata": {},
   "outputs": [
    {
     "data": {
      "text/html": [
       "<div>\n",
       "<style scoped>\n",
       "    .dataframe tbody tr th:only-of-type {\n",
       "        vertical-align: middle;\n",
       "    }\n",
       "\n",
       "    .dataframe tbody tr th {\n",
       "        vertical-align: top;\n",
       "    }\n",
       "\n",
       "    .dataframe thead th {\n",
       "        text-align: right;\n",
       "    }\n",
       "</style>\n",
       "<table border=\"1\" class=\"dataframe\">\n",
       "  <thead>\n",
       "    <tr style=\"text-align: right;\">\n",
       "      <th></th>\n",
       "      <th>교육넘버</th>\n",
       "      <th>교육명</th>\n",
       "      <th>교육신청시작일</th>\n",
       "      <th>교육신청종료일</th>\n",
       "      <th>교육시작일</th>\n",
       "      <th>교육종료일</th>\n",
       "      <th>수강정원</th>\n",
       "      <th>교육상태</th>\n",
       "      <th>교육비용</th>\n",
       "      <th>강좌상세화면</th>\n",
       "      <th>clean_sentence</th>\n",
       "      <th>mecab</th>\n",
       "    </tr>\n",
       "  </thead>\n",
       "  <tbody>\n",
       "    <tr>\n",
       "      <th>0</th>\n",
       "      <td>31959261</td>\n",
       "      <td>[창업 아카데미]중장년 창업금융교실</td>\n",
       "      <td>2023-05-26</td>\n",
       "      <td>2023-05-31</td>\n",
       "      <td>2023-06-21</td>\n",
       "      <td>2023-06-21</td>\n",
       "      <td>20</td>\n",
       "      <td>수강신청예정</td>\n",
       "      <td>0</td>\n",
       "      <td>https://50plus.or.kr/education-detail.do?id=31...</td>\n",
       "      <td>창업 아카데미 중장년 창업금융교실</td>\n",
       "      <td>창업 아카데미 중 장년 창업 금융 교실</td>\n",
       "    </tr>\n",
       "    <tr>\n",
       "      <th>1</th>\n",
       "      <td>31959390</td>\n",
       "      <td>[취창업 아카데미]일하는 중장년을 위한 노동법률교실</td>\n",
       "      <td>2023-05-26</td>\n",
       "      <td>2023-05-31</td>\n",
       "      <td>2023-06-23</td>\n",
       "      <td>2023-06-23</td>\n",
       "      <td>20</td>\n",
       "      <td>수강신청예정</td>\n",
       "      <td>0</td>\n",
       "      <td>https://50plus.or.kr/education-detail.do?id=31...</td>\n",
       "      <td>취창업 아카데미 일하는 중장년을 위한 노동법률교실</td>\n",
       "      <td>취 창업 아카데미 일 중 장년 노동 법률 교실</td>\n",
       "    </tr>\n",
       "    <tr>\n",
       "      <th>2</th>\n",
       "      <td>31971549</td>\n",
       "      <td>[창업 아카데미]중장년 창업 발명창의교실</td>\n",
       "      <td>2023-05-26</td>\n",
       "      <td>2023-05-31</td>\n",
       "      <td>2023-06-29</td>\n",
       "      <td>2023-06-30</td>\n",
       "      <td>30</td>\n",
       "      <td>수강신청예정</td>\n",
       "      <td>0</td>\n",
       "      <td>https://50plus.or.kr/education-detail.do?id=31...</td>\n",
       "      <td>창업 아카데미 중장년 창업 발명창의교실</td>\n",
       "      <td>창업 아카데미 중 장년 창업 발 명창 교실</td>\n",
       "    </tr>\n",
       "    <tr>\n",
       "      <th>3</th>\n",
       "      <td>31623329</td>\n",
       "      <td>[건강]국민연금공단 연계 '두근두근 뇌운동(치매의 이해와 예방)'</td>\n",
       "      <td>2023-05-26</td>\n",
       "      <td>2023-05-31</td>\n",
       "      <td>2023-06-28</td>\n",
       "      <td>2023-06-28</td>\n",
       "      <td>20</td>\n",
       "      <td>수강신청예정</td>\n",
       "      <td>0</td>\n",
       "      <td>https://50plus.or.kr/education-detail.do?id=31...</td>\n",
       "      <td>건강 국민연금공단 연계  두근두근 뇌운동 치매의 이해와 예방</td>\n",
       "      <td>건강 국민 연금 공단 연계 뇌 운동 치매 이해 예방</td>\n",
       "    </tr>\n",
       "    <tr>\n",
       "      <th>4</th>\n",
       "      <td>31622843</td>\n",
       "      <td>[재무]시니어금융교육협의회 연계 '스마트폰 활용 디지털 금융교육'</td>\n",
       "      <td>2023-05-26</td>\n",
       "      <td>2023-05-31</td>\n",
       "      <td>2023-06-20</td>\n",
       "      <td>2023-06-27</td>\n",
       "      <td>20</td>\n",
       "      <td>수강신청예정</td>\n",
       "      <td>0</td>\n",
       "      <td>https://50plus.or.kr/education-detail.do?id=31...</td>\n",
       "      <td>재무 시니어금융교육협의회 연계  스마트폰 활용 디지털 금융교육</td>\n",
       "      <td>재무 시니어 금융 교육 협의회 연계 스마트폰 활용 디지털 금융 교육</td>\n",
       "    </tr>\n",
       "  </tbody>\n",
       "</table>\n",
       "</div>"
      ],
      "text/plain": [
       "       교육넘버                                   교육명    교육신청시작일    교육신청종료일   \n",
       "0  31959261                   [창업 아카데미]중장년 창업금융교실 2023-05-26 2023-05-31  \\\n",
       "1  31959390          [취창업 아카데미]일하는 중장년을 위한 노동법률교실 2023-05-26 2023-05-31   \n",
       "2  31971549                [창업 아카데미]중장년 창업 발명창의교실 2023-05-26 2023-05-31   \n",
       "3  31623329  [건강]국민연금공단 연계 '두근두근 뇌운동(치매의 이해와 예방)' 2023-05-26 2023-05-31   \n",
       "4  31622843  [재무]시니어금융교육협의회 연계 '스마트폰 활용 디지털 금융교육' 2023-05-26 2023-05-31   \n",
       "\n",
       "       교육시작일      교육종료일 수강정원    교육상태 교육비용   \n",
       "0 2023-06-21 2023-06-21   20  수강신청예정    0  \\\n",
       "1 2023-06-23 2023-06-23   20  수강신청예정    0   \n",
       "2 2023-06-29 2023-06-30   30  수강신청예정    0   \n",
       "3 2023-06-28 2023-06-28   20  수강신청예정    0   \n",
       "4 2023-06-20 2023-06-27   20  수강신청예정    0   \n",
       "\n",
       "                                              강좌상세화면   \n",
       "0  https://50plus.or.kr/education-detail.do?id=31...  \\\n",
       "1  https://50plus.or.kr/education-detail.do?id=31...   \n",
       "2  https://50plus.or.kr/education-detail.do?id=31...   \n",
       "3  https://50plus.or.kr/education-detail.do?id=31...   \n",
       "4  https://50plus.or.kr/education-detail.do?id=31...   \n",
       "\n",
       "                         clean_sentence                                  mecab  \n",
       "0                    창업 아카데미 중장년 창업금융교실                  창업 아카데미 중 장년 창업 금융 교실  \n",
       "1           취창업 아카데미 일하는 중장년을 위한 노동법률교실              취 창업 아카데미 일 중 장년 노동 법률 교실  \n",
       "2                 창업 아카데미 중장년 창업 발명창의교실                창업 아카데미 중 장년 창업 발 명창 교실  \n",
       "3   건강 국민연금공단 연계  두근두근 뇌운동 치매의 이해와 예방             건강 국민 연금 공단 연계 뇌 운동 치매 이해 예방  \n",
       "4   재무 시니어금융교육협의회 연계  스마트폰 활용 디지털 금융교육   재무 시니어 금융 교육 협의회 연계 스마트폰 활용 디지털 금융 교육  "
      ]
     },
     "execution_count": 14,
     "metadata": {},
     "output_type": "execute_result"
    }
   ],
   "source": [
    "total_data.head()"
   ]
  },
  {
   "cell_type": "code",
   "execution_count": 17,
   "id": "f1a1357d",
   "metadata": {},
   "outputs": [],
   "source": [
    "today_edu = possible_edu( total_data )"
   ]
  },
  {
   "cell_type": "code",
   "execution_count": 26,
   "id": "cde76926",
   "metadata": {},
   "outputs": [
    {
     "data": {
      "text/plain": [
       "(271, 12)"
      ]
     },
     "execution_count": 26,
     "metadata": {},
     "output_type": "execute_result"
    }
   ],
   "source": [
    "today_edu.shape"
   ]
  },
  {
   "cell_type": "code",
   "execution_count": 15,
   "id": "58288f4b",
   "metadata": {},
   "outputs": [],
   "source": [
    "# 전체 데이터에 대한 TF-IDF Vectorizer\n",
    "# vectorizer = TfidfVectorizer()\n",
    "\n",
    "tfidf_vector = TfidfVectorizer().fit( total_data[\"mecab\"] )"
   ]
  },
  {
   "cell_type": "markdown",
   "id": "ecef95c9",
   "metadata": {},
   "source": [
    "### Example PART"
   ]
  },
  {
   "cell_type": "code",
   "execution_count": 21,
   "id": "4cb1f373",
   "metadata": {},
   "outputs": [
    {
     "name": "stdout",
     "output_type": "stream",
     "text": [
      "[일자리센터 연계]50+일자리 상담(6월) 0.73\n",
      "[일자리센터 연계]50+일자리 상담(5월) 0.73\n",
      "공공일자리 훑어보기 1기 0.593\n",
      "생애전환기 일자리 경험 프로그램 0.339\n",
      "[맞춤형일자리]서류평가관 활동 설명회 0.324\n"
     ]
    }
   ],
   "source": [
    "x = \"일자리\"\n",
    "\n",
    "edu_recommend(x, today_edu, tfidf_vector)"
   ]
  },
  {
   "cell_type": "code",
   "execution_count": 22,
   "id": "e07c746f",
   "metadata": {},
   "outputs": [
    {
     "name": "stdout",
     "output_type": "stream",
     "text": [
      "2023년 직업교육_일반경비원 신임교육 5기 0.461\n"
     ]
    }
   ],
   "source": [
    "x = \"경비원\"\n",
    "\n",
    "edu_recommend(x, today_edu, tfidf_vector)"
   ]
  },
  {
   "cell_type": "code",
   "execution_count": 23,
   "id": "064315ea",
   "metadata": {},
   "outputs": [
    {
     "name": "stdout",
     "output_type": "stream",
     "text": [
      "[2023채움학교] 중장년이 알아야 할 코딩기술 (특강) 0.557\n",
      "[맞춤형 일자리]창의융합메이커코딩 전문강사 양성 0.368\n",
      "[50+스마트] 내가 조종하는 미니로봇! '블록코딩 체험과정' 0.357\n"
     ]
    }
   ],
   "source": [
    "x = \"코딩\"\n",
    "\n",
    "edu_recommend(x, today_edu, tfidf_vector)"
   ]
  },
  {
   "cell_type": "code",
   "execution_count": 24,
   "id": "81950a79",
   "metadata": {},
   "outputs": [
    {
     "name": "stdout",
     "output_type": "stream",
     "text": [
      "스트레스 관리로 취업 성공하기 0.447\n",
      "취업전략: 변화 관리하기와 이력서 작성법 0.345\n"
     ]
    }
   ],
   "source": [
    "x = \"관리\"\n",
    "\n",
    "edu_recommend(x, today_edu, tfidf_vector)"
   ]
  }
 ],
 "metadata": {
  "kernelspec": {
   "display_name": "Python 3 (ipykernel)",
   "language": "python",
   "name": "python3"
  },
  "language_info": {
   "codemirror_mode": {
    "name": "ipython",
    "version": 3
   },
   "file_extension": ".py",
   "mimetype": "text/x-python",
   "name": "python",
   "nbconvert_exporter": "python",
   "pygments_lexer": "ipython3",
   "version": "3.8.16"
  }
 },
 "nbformat": 4,
 "nbformat_minor": 5
}
