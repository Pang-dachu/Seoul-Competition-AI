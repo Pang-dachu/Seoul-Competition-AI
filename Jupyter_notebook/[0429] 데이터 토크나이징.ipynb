{
 "cells": [
  {
   "cell_type": "markdown",
   "id": "d9c8e0d6",
   "metadata": {},
   "source": [
    "### 필요 라이브러리"
   ]
  },
  {
   "cell_type": "code",
   "execution_count": 1,
   "id": "cf657e7b",
   "metadata": {},
   "outputs": [
    {
     "name": "stderr",
     "output_type": "stream",
     "text": [
      "2023-04-30 02:23:14.546331: I tensorflow/core/platform/cpu_feature_guard.cc:182] This TensorFlow binary is optimized to use available CPU instructions in performance-critical operations.\n",
      "To enable the following instructions: AVX2 FMA, in other operations, rebuild TensorFlow with the appropriate compiler flags.\n",
      "2023-04-30 02:23:15.097391: W tensorflow/compiler/tf2tensorrt/utils/py_utils.cc:38] TF-TRT Warning: Could not find TensorRT\n"
     ]
    }
   ],
   "source": [
    "import pandas as pd \n",
    "\n",
    "pd.options.display.max_columns = None\n",
    "pd.options.display.max_rows = None\n",
    "\n",
    "import tensorflow as tf \n",
    "\n",
    "import matplotlib.pyplot as plt\n",
    "import seaborn as sns\n",
    "\n",
    "import warnings\n",
    "warnings.filterwarnings(\"ignore\")"
   ]
  },
  {
   "cell_type": "markdown",
   "id": "c7390c16",
   "metadata": {},
   "source": [
    "### Local 환경의 파일 불러오기 "
   ]
  },
  {
   "cell_type": "code",
   "execution_count": 2,
   "id": "63f36e2c",
   "metadata": {},
   "outputs": [],
   "source": [
    "# Font \n",
    "FONT_PATH = \"/home/jupyter/Fonts/NanumSquareR.ttf\"\n",
    "\n",
    "plt.rcParams['axes.unicode_minus']=False\n",
    "plt.rcParams['font.family'] = \"NanumGothic\""
   ]
  },
  {
   "cell_type": "code",
   "execution_count": 3,
   "id": "f725deb0",
   "metadata": {},
   "outputs": [],
   "source": [
    "# 경로 \n",
    "file_path = \"/home/jupyter/직업교육/\""
   ]
  },
  {
   "cell_type": "code",
   "execution_count": 4,
   "id": "3f8ac1a5",
   "metadata": {},
   "outputs": [],
   "source": [
    "# 파일명\n",
    "file_50_plus = \"서울시 50플러스포털 교육정보.csv\"\n",
    "file_senior_edu = \"서울시 어르신 취업지원센터 교육정보.csv\""
   ]
  },
  {
   "cell_type": "code",
   "execution_count": 5,
   "id": "37f30b24",
   "metadata": {},
   "outputs": [],
   "source": [
    "# csv 불러오기 \n",
    "file_01 = pd.read_csv(file_path + file_50_plus, encoding=\"cp949\")\n",
    "file_02 = pd.read_csv(file_path + file_senior_edu, encoding=\"cp949\")"
   ]
  },
  {
   "cell_type": "code",
   "execution_count": 6,
   "id": "44aaad15",
   "metadata": {},
   "outputs": [
    {
     "data": {
      "text/plain": [
       "((10625, 11), (67, 10))"
      ]
     },
     "execution_count": 6,
     "metadata": {},
     "output_type": "execute_result"
    }
   ],
   "source": [
    "# 파일의 형태 확인 \n",
    "file_01.shape,  file_02.shape"
   ]
  },
  {
   "cell_type": "code",
   "execution_count": 7,
   "id": "51dadfd5",
   "metadata": {},
   "outputs": [
    {
     "data": {
      "text/html": [
       "<div>\n",
       "<style scoped>\n",
       "    .dataframe tbody tr th:only-of-type {\n",
       "        vertical-align: middle;\n",
       "    }\n",
       "\n",
       "    .dataframe tbody tr th {\n",
       "        vertical-align: top;\n",
       "    }\n",
       "\n",
       "    .dataframe thead th {\n",
       "        text-align: right;\n",
       "    }\n",
       "</style>\n",
       "<table border=\"1\" class=\"dataframe\">\n",
       "  <thead>\n",
       "    <tr style=\"text-align: right;\">\n",
       "      <th></th>\n",
       "      <th>강좌번호</th>\n",
       "      <th>강좌명</th>\n",
       "      <th>등록시작일</th>\n",
       "      <th>등록종료일</th>\n",
       "      <th>강좌시작일</th>\n",
       "      <th>강좌종료일</th>\n",
       "      <th>수업시간</th>\n",
       "      <th>정원</th>\n",
       "      <th>강좌상태</th>\n",
       "      <th>강좌비용</th>\n",
       "      <th>강좌상세화면</th>\n",
       "    </tr>\n",
       "  </thead>\n",
       "  <tbody>\n",
       "    <tr>\n",
       "      <th>0</th>\n",
       "      <td>31622628</td>\n",
       "      <td>[주거]초록쉼표, 식물과 함께하는 일상</td>\n",
       "      <td>2023.05.26</td>\n",
       "      <td>2023.05.31</td>\n",
       "      <td>2023.06.08</td>\n",
       "      <td>2023.06.22</td>\n",
       "      <td>08:00</td>\n",
       "      <td>20.0</td>\n",
       "      <td>수강신청예정</td>\n",
       "      <td>10000</td>\n",
       "      <td>https://50plus.or.kr/education-detail.do?id=31...</td>\n",
       "    </tr>\n",
       "    <tr>\n",
       "      <th>1</th>\n",
       "      <td>32138091</td>\n",
       "      <td>[맞춤형일자리]서류평가관 활동 설명회</td>\n",
       "      <td>2023.05.26</td>\n",
       "      <td>2023.06.04</td>\n",
       "      <td>2023.06.23</td>\n",
       "      <td>2023.06.23</td>\n",
       "      <td>01:00</td>\n",
       "      <td>40.0</td>\n",
       "      <td>수강신청예정</td>\n",
       "      <td>0</td>\n",
       "      <td>https://50plus.or.kr/education-detail.do?id=32...</td>\n",
       "    </tr>\n",
       "    <tr>\n",
       "      <th>2</th>\n",
       "      <td>31623735</td>\n",
       "      <td>[건강]몸신의 허리통증 없애는 비결</td>\n",
       "      <td>2023.05.26</td>\n",
       "      <td>2023.05.31</td>\n",
       "      <td>2023.06.13</td>\n",
       "      <td>2023.07.04</td>\n",
       "      <td>06:00</td>\n",
       "      <td>15.0</td>\n",
       "      <td>수강신청예정</td>\n",
       "      <td>10000</td>\n",
       "      <td>https://50plus.or.kr/education-detail.do?id=31...</td>\n",
       "    </tr>\n",
       "    <tr>\n",
       "      <th>3</th>\n",
       "      <td>31623329</td>\n",
       "      <td>[건강]국민연금공단 연계 '두근두근 뇌운동(치매의 이해와 예방)'</td>\n",
       "      <td>2023.05.26</td>\n",
       "      <td>2023.05.31</td>\n",
       "      <td>2023.06.28</td>\n",
       "      <td>2023.06.28</td>\n",
       "      <td>02:00</td>\n",
       "      <td>20.0</td>\n",
       "      <td>수강신청예정</td>\n",
       "      <td>0</td>\n",
       "      <td>https://50plus.or.kr/education-detail.do?id=31...</td>\n",
       "    </tr>\n",
       "    <tr>\n",
       "      <th>4</th>\n",
       "      <td>32130888</td>\n",
       "      <td>[일자리센터 연계]50+일자리 상담(6월)</td>\n",
       "      <td>2023.05.26</td>\n",
       "      <td>2023.06.02</td>\n",
       "      <td>2023.06.21</td>\n",
       "      <td>2023.06.21</td>\n",
       "      <td>03:00</td>\n",
       "      <td>8.0</td>\n",
       "      <td>수강신청예정</td>\n",
       "      <td>0</td>\n",
       "      <td>https://50plus.or.kr/education-detail.do?id=32...</td>\n",
       "    </tr>\n",
       "  </tbody>\n",
       "</table>\n",
       "</div>"
      ],
      "text/plain": [
       "       강좌번호                                   강좌명       등록시작일       등록종료일   \n",
       "0  31622628                 [주거]초록쉼표, 식물과 함께하는 일상  2023.05.26  2023.05.31  \\\n",
       "1  32138091                  [맞춤형일자리]서류평가관 활동 설명회  2023.05.26  2023.06.04   \n",
       "2  31623735                   [건강]몸신의 허리통증 없애는 비결  2023.05.26  2023.05.31   \n",
       "3  31623329  [건강]국민연금공단 연계 '두근두근 뇌운동(치매의 이해와 예방)'  2023.05.26  2023.05.31   \n",
       "4  32130888               [일자리센터 연계]50+일자리 상담(6월)  2023.05.26  2023.06.02   \n",
       "\n",
       "        강좌시작일       강좌종료일   수업시간    정원    강좌상태   강좌비용   \n",
       "0  2023.06.08  2023.06.22  08:00  20.0  수강신청예정  10000  \\\n",
       "1  2023.06.23  2023.06.23  01:00  40.0  수강신청예정      0   \n",
       "2  2023.06.13  2023.07.04  06:00  15.0  수강신청예정  10000   \n",
       "3  2023.06.28  2023.06.28  02:00  20.0  수강신청예정      0   \n",
       "4  2023.06.21  2023.06.21  03:00   8.0  수강신청예정      0   \n",
       "\n",
       "                                              강좌상세화면  \n",
       "0  https://50plus.or.kr/education-detail.do?id=31...  \n",
       "1  https://50plus.or.kr/education-detail.do?id=32...  \n",
       "2  https://50plus.or.kr/education-detail.do?id=31...  \n",
       "3  https://50plus.or.kr/education-detail.do?id=31...  \n",
       "4  https://50plus.or.kr/education-detail.do?id=32...  "
      ]
     },
     "execution_count": 7,
     "metadata": {},
     "output_type": "execute_result"
    }
   ],
   "source": [
    "file_01.head()"
   ]
  },
  {
   "cell_type": "code",
   "execution_count": 8,
   "id": "187be517",
   "metadata": {},
   "outputs": [
    {
     "data": {
      "text/html": [
       "<div>\n",
       "<style scoped>\n",
       "    .dataframe tbody tr th:only-of-type {\n",
       "        vertical-align: middle;\n",
       "    }\n",
       "\n",
       "    .dataframe tbody tr th {\n",
       "        vertical-align: top;\n",
       "    }\n",
       "\n",
       "    .dataframe thead th {\n",
       "        text-align: right;\n",
       "    }\n",
       "</style>\n",
       "<table border=\"1\" class=\"dataframe\">\n",
       "  <thead>\n",
       "    <tr style=\"text-align: right;\">\n",
       "      <th></th>\n",
       "      <th>교육넘버</th>\n",
       "      <th>교육명</th>\n",
       "      <th>교육시작일</th>\n",
       "      <th>교육종료일</th>\n",
       "      <th>교육신청시작일</th>\n",
       "      <th>교육신청종료일</th>\n",
       "      <th>수강정원</th>\n",
       "      <th>교육비용</th>\n",
       "      <th>교육상태</th>\n",
       "      <th>강좌상세화면</th>\n",
       "    </tr>\n",
       "  </thead>\n",
       "  <tbody>\n",
       "    <tr>\n",
       "      <th>0</th>\n",
       "      <td>171</td>\n",
       "      <td>일반경비 신임교육 1기</td>\n",
       "      <td>2022-01-18</td>\n",
       "      <td>2022-01-21</td>\n",
       "      <td>2021-12-29</td>\n",
       "      <td>2022-01-17</td>\n",
       "      <td>30</td>\n",
       "      <td>50000</td>\n",
       "      <td>마감</td>\n",
       "      <td>https://www.goldenjob.or.kr/edu/apply_view.asp...</td>\n",
       "    </tr>\n",
       "    <tr>\n",
       "      <th>1</th>\n",
       "      <td>172</td>\n",
       "      <td>일반경비원 신임교육 2기</td>\n",
       "      <td>2022-02-22</td>\n",
       "      <td>2022-02-25</td>\n",
       "      <td>2022-01-19</td>\n",
       "      <td>2022-02-18</td>\n",
       "      <td>30</td>\n",
       "      <td>50000</td>\n",
       "      <td>마감</td>\n",
       "      <td>https://www.goldenjob.or.kr/edu/apply_view.asp...</td>\n",
       "    </tr>\n",
       "    <tr>\n",
       "      <th>2</th>\n",
       "      <td>173</td>\n",
       "      <td>소양교육_취업준비교육 1기(온라인 실시간)</td>\n",
       "      <td>2022-02-22</td>\n",
       "      <td>2022-02-23</td>\n",
       "      <td>2022-01-24</td>\n",
       "      <td>2022-02-21</td>\n",
       "      <td>10</td>\n",
       "      <td>0</td>\n",
       "      <td>마감</td>\n",
       "      <td>https://www.goldenjob.or.kr/edu/apply_view.asp...</td>\n",
       "    </tr>\n",
       "    <tr>\n",
       "      <th>3</th>\n",
       "      <td>174</td>\n",
       "      <td>소양교육_줌(ZOOM) 활용 교육</td>\n",
       "      <td>2022-02-25</td>\n",
       "      <td>2022-02-25</td>\n",
       "      <td>2022-01-24</td>\n",
       "      <td>2022-02-23</td>\n",
       "      <td>15</td>\n",
       "      <td>0</td>\n",
       "      <td>마감</td>\n",
       "      <td>https://www.goldenjob.or.kr/edu/apply_view.asp...</td>\n",
       "    </tr>\n",
       "    <tr>\n",
       "      <th>4</th>\n",
       "      <td>175</td>\n",
       "      <td>방역소독원 교육 1기</td>\n",
       "      <td>2022-02-15</td>\n",
       "      <td>2022-02-16</td>\n",
       "      <td>2022-01-27</td>\n",
       "      <td>2022-02-14</td>\n",
       "      <td>10</td>\n",
       "      <td>0</td>\n",
       "      <td>마감</td>\n",
       "      <td>https://www.goldenjob.or.kr/edu/apply_view.asp...</td>\n",
       "    </tr>\n",
       "  </tbody>\n",
       "</table>\n",
       "</div>"
      ],
      "text/plain": [
       "   교육넘버                      교육명       교육시작일       교육종료일     교육신청시작일   \n",
       "0   171             일반경비 신임교육 1기  2022-01-18  2022-01-21  2021-12-29  \\\n",
       "1   172            일반경비원 신임교육 2기  2022-02-22  2022-02-25  2022-01-19   \n",
       "2   173  소양교육_취업준비교육 1기(온라인 실시간)  2022-02-22  2022-02-23  2022-01-24   \n",
       "3   174       소양교육_줌(ZOOM) 활용 교육  2022-02-25  2022-02-25  2022-01-24   \n",
       "4   175              방역소독원 교육 1기  2022-02-15  2022-02-16  2022-01-27   \n",
       "\n",
       "      교육신청종료일  수강정원   교육비용 교육상태   \n",
       "0  2022-01-17    30  50000   마감  \\\n",
       "1  2022-02-18    30  50000   마감   \n",
       "2  2022-02-21    10      0   마감   \n",
       "3  2022-02-23    15      0   마감   \n",
       "4  2022-02-14    10      0   마감   \n",
       "\n",
       "                                              강좌상세화면  \n",
       "0  https://www.goldenjob.or.kr/edu/apply_view.asp...  \n",
       "1  https://www.goldenjob.or.kr/edu/apply_view.asp...  \n",
       "2  https://www.goldenjob.or.kr/edu/apply_view.asp...  \n",
       "3  https://www.goldenjob.or.kr/edu/apply_view.asp...  \n",
       "4  https://www.goldenjob.or.kr/edu/apply_view.asp...  "
      ]
     },
     "execution_count": 8,
     "metadata": {},
     "output_type": "execute_result"
    }
   ],
   "source": [
    "file_02.head()"
   ]
  },
  {
   "cell_type": "markdown",
   "id": "88fe6f18",
   "metadata": {},
   "source": [
    "### 두 개의 파일 병합"
   ]
  },
  {
   "cell_type": "code",
   "execution_count": 9,
   "id": "45cca16b",
   "metadata": {},
   "outputs": [],
   "source": [
    "# 컬럼 선택\n",
    "sel_col_01 = [\"강좌번호\",\"강좌명\"]\n",
    "sel_col_02 = [\"교육넘버\",\"교육명\"]"
   ]
  },
  {
   "cell_type": "code",
   "execution_count": 10,
   "id": "94b0a425",
   "metadata": {},
   "outputs": [],
   "source": [
    "# 해당 컬럼의 데이터만 \n",
    "data_01 = file_01[sel_col_01]\n",
    "data_02 = file_02[sel_col_02]"
   ]
  },
  {
   "cell_type": "code",
   "execution_count": 11,
   "id": "3edcce80",
   "metadata": {},
   "outputs": [],
   "source": [
    "# 컬럼 이름이 서로 다르므로 통일 \n",
    "# [\"번호\",\"교육명\"]\n",
    "trans_col = [\"번호\",\"교육명\"]\n",
    "\n",
    "data_01.columns = trans_col\n",
    "data_02.columns = trans_col"
   ]
  },
  {
   "cell_type": "code",
   "execution_count": 12,
   "id": "b9986709",
   "metadata": {},
   "outputs": [
    {
     "data": {
      "text/plain": [
       "(10692, 2)"
      ]
     },
     "execution_count": 12,
     "metadata": {},
     "output_type": "execute_result"
    }
   ],
   "source": [
    "# concat을 통한 데이터 프레임 병합\n",
    "data = pd.concat([data_01, data_02])\n",
    "\n",
    "# 병합 데이터 형태 확인\n",
    "data.shape"
   ]
  },
  {
   "cell_type": "markdown",
   "id": "3cc10fe0",
   "metadata": {},
   "source": [
    "### 불용어 처리 "
   ]
  },
  {
   "cell_type": "code",
   "execution_count": 13,
   "id": "381ef5db",
   "metadata": {},
   "outputs": [],
   "source": [
    "# 불용어 처리 \n",
    "import re\n",
    "\n",
    "def clean_sentence(sentence) :\n",
    "    # 날짜, 기수, 차수 제거 \n",
    "    sentence = re.sub(r\"[0-9]+년\", r\" \", sentence)\n",
    "    sentence = re.sub(r\"[0-9]+차\", r\" \", sentence)\n",
    "    sentence = re.sub(r\"[0-9]+기\", r\" \", sentence)\n",
    "    sentence = re.sub(r\"[0-9]+월\", r\" \", sentence)\n",
    "    sentence = re.sub(r\"[0-9]+일\", r\" \", sentence)\n",
    "    sentence = re.sub(r\"[0-9]{1,2}.[0-9]{1,2}\", r\" \", sentence)\n",
    "    \n",
    "    # (주) , (요일)\n",
    "    sentence = re.sub(r\"\\(+[가-힣]+\\)\", r\" \", sentence)\n",
    "\n",
    "    # 주차, 요일 형식 제거 \n",
    "    sentence = re.sub(r\"[가-힣]째주\", r\" \", sentence) \n",
    "    sentence = re.sub(r\"[가-힣]{1}요일\", r\" \", sentence)\n",
    "    \n",
    "    # 마감 키워드 필요 없음\n",
    "    sentence = re.sub(r\"마감\", r\" \", sentence)\n",
    "    \n",
    "    # 50이라는 숫자 필요 없음 \n",
    "    sentence = re.sub(r\"50\", r\" \", sentence)\n",
    "    # 자격증 n급 필요 없을듯 \n",
    "    sentence = re.sub(r\"[0-9]+급\", r\" \", sentence)\n",
    "    # n단계도 필요 없을듯 \n",
    "    sentence = re.sub(r\"[0-9]+단계\", r\" \", sentence)\n",
    "    \n",
    "    sentence = re.sub(r\"[^0-9가-힣a-zA-Z]\", r\" \", sentence)\n",
    "    return sentence"
   ]
  },
  {
   "cell_type": "code",
   "execution_count": 14,
   "id": "89810f71",
   "metadata": {},
   "outputs": [],
   "source": [
    "# 불용어 처리 적용\n",
    "data[\"clean_sentence\"] = data[\"교육명\"].apply(lambda x : clean_sentence(x) )"
   ]
  },
  {
   "cell_type": "markdown",
   "id": "8db93d2f",
   "metadata": {},
   "source": [
    "### Tokenizer 함수 정의 "
   ]
  },
  {
   "cell_type": "code",
   "execution_count": 15,
   "id": "ad82c208",
   "metadata": {},
   "outputs": [],
   "source": [
    "# 토크나이저 선택 함수 정의\n",
    "from konlpy.tag import Okt, Komoran, Mecab, Hannanum, Kkma\n",
    "\n",
    "# 다양한 토크나이저를 사용할 수 있는 함수\n",
    "def get_tokenizer(tokenizer_name):\n",
    "    if tokenizer_name == \"komoran\":\n",
    "        tokenizer = Komoran()\n",
    "    elif tokenizer_name == \"okt\":\n",
    "        tokenizer = Okt()\n",
    "    elif tokenizer_name == \"mecab\":\n",
    "        tokenizer = Mecab()\n",
    "    elif tokenizer_name == \"hannanum\":\n",
    "        tokenizer = Hannanum()\n",
    "    else:\n",
    "        # \"kkma\":\n",
    "        tokenizer = Kkma()\n",
    "        \n",
    "    return tokenizer"
   ]
  },
  {
   "cell_type": "code",
   "execution_count": 16,
   "id": "1327e99b",
   "metadata": {},
   "outputs": [],
   "source": [
    "def tokenize(tokenizer_name, original_sent, nouns=False):\n",
    "    # 미리 정의된 몇 가지 tokenizer 중 하나를 선택\n",
    "    tokenizer = get_tokenizer(tokenizer_name)\n",
    "\n",
    "    # tokenizer를 이용하여 original_sent를 토큰화하여 tokenized_sent에 저장하고, 이를 반환합니다.\n",
    "    sentence = original_sent.replace('\\n', '').strip()\n",
    "    if nouns:       \n",
    "        # tokenizer.nouns(sentence) -> 명사만 추출\n",
    "        tokens = tokenizer.nouns(sentence)\n",
    "    else:\n",
    "        tokens = tokenizer.morphs(sentence)\n",
    "    \n",
    "    return tokens"
   ]
  },
  {
   "cell_type": "code",
   "execution_count": 17,
   "id": "3ade6709",
   "metadata": {},
   "outputs": [
    {
     "name": "stderr",
     "output_type": "stream",
     "text": [
      "2023-04-30 02:23:26.167425: I tensorflow/compiler/xla/stream_executor/cuda/cuda_gpu_executor.cc:982] could not open file to read NUMA node: /sys/bus/pci/devices/0000:07:00.0/numa_node\n",
      "Your kernel may have been built without NUMA support.\n",
      "2023-04-30 02:23:26.290282: I tensorflow/compiler/xla/stream_executor/cuda/cuda_gpu_executor.cc:982] could not open file to read NUMA node: /sys/bus/pci/devices/0000:07:00.0/numa_node\n",
      "Your kernel may have been built without NUMA support.\n",
      "2023-04-30 02:23:26.290585: I tensorflow/compiler/xla/stream_executor/cuda/cuda_gpu_executor.cc:982] could not open file to read NUMA node: /sys/bus/pci/devices/0000:07:00.0/numa_node\n",
      "Your kernel may have been built without NUMA support.\n",
      "2023-04-30 02:23:26.294515: I tensorflow/compiler/xla/stream_executor/cuda/cuda_gpu_executor.cc:982] could not open file to read NUMA node: /sys/bus/pci/devices/0000:07:00.0/numa_node\n",
      "Your kernel may have been built without NUMA support.\n",
      "2023-04-30 02:23:26.294815: I tensorflow/compiler/xla/stream_executor/cuda/cuda_gpu_executor.cc:982] could not open file to read NUMA node: /sys/bus/pci/devices/0000:07:00.0/numa_node\n",
      "Your kernel may have been built without NUMA support.\n",
      "2023-04-30 02:23:26.295097: I tensorflow/compiler/xla/stream_executor/cuda/cuda_gpu_executor.cc:982] could not open file to read NUMA node: /sys/bus/pci/devices/0000:07:00.0/numa_node\n",
      "Your kernel may have been built without NUMA support.\n",
      "2023-04-30 02:23:27.148826: I tensorflow/compiler/xla/stream_executor/cuda/cuda_gpu_executor.cc:982] could not open file to read NUMA node: /sys/bus/pci/devices/0000:07:00.0/numa_node\n",
      "Your kernel may have been built without NUMA support.\n",
      "2023-04-30 02:23:27.149268: I tensorflow/compiler/xla/stream_executor/cuda/cuda_gpu_executor.cc:982] could not open file to read NUMA node: /sys/bus/pci/devices/0000:07:00.0/numa_node\n",
      "Your kernel may have been built without NUMA support.\n",
      "2023-04-30 02:23:27.149279: I tensorflow/core/common_runtime/gpu/gpu_device.cc:1722] Could not identify NUMA node of platform GPU id 0, defaulting to 0.  Your kernel may not have been built with NUMA support.\n",
      "2023-04-30 02:23:27.149534: I tensorflow/compiler/xla/stream_executor/cuda/cuda_gpu_executor.cc:982] could not open file to read NUMA node: /sys/bus/pci/devices/0000:07:00.0/numa_node\n",
      "Your kernel may have been built without NUMA support.\n",
      "2023-04-30 02:23:27.149751: I tensorflow/core/common_runtime/gpu/gpu_device.cc:1635] Created device /job:localhost/replica:0/task:0/device:GPU:0 with 7335 MB memory:  -> device: 0, name: NVIDIA GeForce RTX 3080, pci bus id: 0000:07:00.0, compute capability: 8.6\n"
     ]
    },
    {
     "name": "stdout",
     "output_type": "stream",
     "text": [
      "CPU times: user 18.5 s, sys: 1.05 s, total: 19.5 s\n",
      "Wall time: 12.2 s\n"
     ]
    }
   ],
   "source": [
    "%%time\n",
    "with tf.device(\"/device:GPU:0\"):\n",
    "    data[\"okt\"] = data[\"clean_sentence\"].apply(lambda x : tokenize(\"okt\", x, True) )"
   ]
  },
  {
   "cell_type": "code",
   "execution_count": 18,
   "id": "3ba728c0",
   "metadata": {},
   "outputs": [
    {
     "name": "stdout",
     "output_type": "stream",
     "text": [
      "CPU times: user 1.53 s, sys: 2.12 s, total: 3.65 s\n",
      "Wall time: 3.69 s\n"
     ]
    }
   ],
   "source": [
    "%%time\n",
    "with tf.device(\"/device:GPU:0\"):\n",
    "    data[\"mecab\"] = data[\"clean_sentence\"].apply(lambda x : tokenize(\"mecab\", x, True) ) "
   ]
  },
  {
   "cell_type": "code",
   "execution_count": 19,
   "id": "da2383d4",
   "metadata": {},
   "outputs": [
    {
     "data": {
      "text/html": [
       "<div>\n",
       "<style scoped>\n",
       "    .dataframe tbody tr th:only-of-type {\n",
       "        vertical-align: middle;\n",
       "    }\n",
       "\n",
       "    .dataframe tbody tr th {\n",
       "        vertical-align: top;\n",
       "    }\n",
       "\n",
       "    .dataframe thead th {\n",
       "        text-align: right;\n",
       "    }\n",
       "</style>\n",
       "<table border=\"1\" class=\"dataframe\">\n",
       "  <thead>\n",
       "    <tr style=\"text-align: right;\">\n",
       "      <th></th>\n",
       "      <th>번호</th>\n",
       "      <th>교육명</th>\n",
       "      <th>clean_sentence</th>\n",
       "      <th>okt</th>\n",
       "      <th>mecab</th>\n",
       "    </tr>\n",
       "  </thead>\n",
       "  <tbody>\n",
       "    <tr>\n",
       "      <th>0</th>\n",
       "      <td>31622628</td>\n",
       "      <td>[주거]초록쉼표, 식물과 함께하는 일상</td>\n",
       "      <td>주거 초록쉼표  식물과 함께하는 일상</td>\n",
       "      <td>[주거, 초록, 쉼표, 식물, 일상]</td>\n",
       "      <td>[주거, 초록, 쉼표, 식물, 일상]</td>\n",
       "    </tr>\n",
       "    <tr>\n",
       "      <th>1</th>\n",
       "      <td>32138091</td>\n",
       "      <td>[맞춤형일자리]서류평가관 활동 설명회</td>\n",
       "      <td>맞춤형일자리 서류평가관 활동 설명회</td>\n",
       "      <td>[맞춤, 일자리, 서류, 평가, 관, 활동, 설명, 회]</td>\n",
       "      <td>[맞춤, 일자리, 서류, 평가, 관, 활동, 설, 명회]</td>\n",
       "    </tr>\n",
       "    <tr>\n",
       "      <th>2</th>\n",
       "      <td>31623735</td>\n",
       "      <td>[건강]몸신의 허리통증 없애는 비결</td>\n",
       "      <td>건강 몸신의 허리통증 없애는 비결</td>\n",
       "      <td>[건강, 몸, 신의, 허리, 통증, 비결]</td>\n",
       "      <td>[건강, 몸신, 허리, 통증, 비결]</td>\n",
       "    </tr>\n",
       "    <tr>\n",
       "      <th>3</th>\n",
       "      <td>31623329</td>\n",
       "      <td>[건강]국민연금공단 연계 '두근두근 뇌운동(치매의 이해와 예방)'</td>\n",
       "      <td>건강 국민연금공단 연계  두근두근 뇌운동 치매의 이해와 예방</td>\n",
       "      <td>[건강, 국민연금, 공단, 계, 뇌, 운동, 치매, 이해, 예방]</td>\n",
       "      <td>[건강, 국민, 연금, 공단, 연계, 뇌, 운동, 치매, 이해, 예방]</td>\n",
       "    </tr>\n",
       "    <tr>\n",
       "      <th>4</th>\n",
       "      <td>32130888</td>\n",
       "      <td>[일자리센터 연계]50+일자리 상담(6월)</td>\n",
       "      <td>일자리센터 연계   일자리 상담</td>\n",
       "      <td>[일자리, 센터, 계, 일자리, 상담]</td>\n",
       "      <td>[일자리, 센터, 연계, 일자리, 상담]</td>\n",
       "    </tr>\n",
       "  </tbody>\n",
       "</table>\n",
       "</div>"
      ],
      "text/plain": [
       "         번호                                   교육명   \n",
       "0  31622628                 [주거]초록쉼표, 식물과 함께하는 일상  \\\n",
       "1  32138091                  [맞춤형일자리]서류평가관 활동 설명회   \n",
       "2  31623735                   [건강]몸신의 허리통증 없애는 비결   \n",
       "3  31623329  [건강]국민연금공단 연계 '두근두근 뇌운동(치매의 이해와 예방)'   \n",
       "4  32130888               [일자리센터 연계]50+일자리 상담(6월)   \n",
       "\n",
       "                         clean_sentence                                   okt   \n",
       "0                  주거 초록쉼표  식물과 함께하는 일상                  [주거, 초록, 쉼표, 식물, 일상]  \\\n",
       "1                   맞춤형일자리 서류평가관 활동 설명회       [맞춤, 일자리, 서류, 평가, 관, 활동, 설명, 회]   \n",
       "2                    건강 몸신의 허리통증 없애는 비결               [건강, 몸, 신의, 허리, 통증, 비결]   \n",
       "3   건강 국민연금공단 연계  두근두근 뇌운동 치매의 이해와 예방    [건강, 국민연금, 공단, 계, 뇌, 운동, 치매, 이해, 예방]   \n",
       "4                  일자리센터 연계   일자리 상담                    [일자리, 센터, 계, 일자리, 상담]   \n",
       "\n",
       "                                     mecab  \n",
       "0                     [주거, 초록, 쉼표, 식물, 일상]  \n",
       "1          [맞춤, 일자리, 서류, 평가, 관, 활동, 설, 명회]  \n",
       "2                     [건강, 몸신, 허리, 통증, 비결]  \n",
       "3  [건강, 국민, 연금, 공단, 연계, 뇌, 운동, 치매, 이해, 예방]  \n",
       "4                   [일자리, 센터, 연계, 일자리, 상담]  "
      ]
     },
     "execution_count": 19,
     "metadata": {},
     "output_type": "execute_result"
    }
   ],
   "source": [
    "data.head()"
   ]
  },
  {
   "cell_type": "markdown",
   "id": "eba104a2",
   "metadata": {},
   "source": [
    "* Mecab, Okt 이외의 토크나이저 실행 시간이 과다하게 걸리는 문제 발생하여 적용하지 않음"
   ]
  },
  {
   "cell_type": "code",
   "execution_count": 20,
   "id": "cd957c68",
   "metadata": {},
   "outputs": [],
   "source": [
    "# 엑셀로 저장 \n",
    "data.to_csv(\"education_tokenize_data.csv\", index=False)"
   ]
  },
  {
   "cell_type": "code",
   "execution_count": 21,
   "id": "ea919418",
   "metadata": {},
   "outputs": [],
   "source": [
    "# 저장된 파일 확인 \n",
    "data = pd.read_csv(\"education_tokenize_data.csv\")"
   ]
  },
  {
   "cell_type": "code",
   "execution_count": 22,
   "id": "22721211",
   "metadata": {},
   "outputs": [
    {
     "data": {
      "text/plain": [
       "(10692, 5)"
      ]
     },
     "execution_count": 22,
     "metadata": {},
     "output_type": "execute_result"
    }
   ],
   "source": [
    "data.shape"
   ]
  },
  {
   "cell_type": "code",
   "execution_count": 23,
   "id": "8deae82a",
   "metadata": {
    "scrolled": true
   },
   "outputs": [
    {
     "data": {
      "text/html": [
       "<div>\n",
       "<style scoped>\n",
       "    .dataframe tbody tr th:only-of-type {\n",
       "        vertical-align: middle;\n",
       "    }\n",
       "\n",
       "    .dataframe tbody tr th {\n",
       "        vertical-align: top;\n",
       "    }\n",
       "\n",
       "    .dataframe thead th {\n",
       "        text-align: right;\n",
       "    }\n",
       "</style>\n",
       "<table border=\"1\" class=\"dataframe\">\n",
       "  <thead>\n",
       "    <tr style=\"text-align: right;\">\n",
       "      <th></th>\n",
       "      <th>번호</th>\n",
       "      <th>교육명</th>\n",
       "      <th>clean_sentence</th>\n",
       "      <th>okt</th>\n",
       "      <th>mecab</th>\n",
       "    </tr>\n",
       "  </thead>\n",
       "  <tbody>\n",
       "    <tr>\n",
       "      <th>0</th>\n",
       "      <td>31622628</td>\n",
       "      <td>[주거]초록쉼표, 식물과 함께하는 일상</td>\n",
       "      <td>주거 초록쉼표  식물과 함께하는 일상</td>\n",
       "      <td>['주거', '초록', '쉼표', '식물', '일상']</td>\n",
       "      <td>['주거', '초록', '쉼표', '식물', '일상']</td>\n",
       "    </tr>\n",
       "    <tr>\n",
       "      <th>1</th>\n",
       "      <td>32138091</td>\n",
       "      <td>[맞춤형일자리]서류평가관 활동 설명회</td>\n",
       "      <td>맞춤형일자리 서류평가관 활동 설명회</td>\n",
       "      <td>['맞춤', '일자리', '서류', '평가', '관', '활동', '설명', '회']</td>\n",
       "      <td>['맞춤', '일자리', '서류', '평가', '관', '활동', '설', '명회']</td>\n",
       "    </tr>\n",
       "    <tr>\n",
       "      <th>2</th>\n",
       "      <td>31623735</td>\n",
       "      <td>[건강]몸신의 허리통증 없애는 비결</td>\n",
       "      <td>건강 몸신의 허리통증 없애는 비결</td>\n",
       "      <td>['건강', '몸', '신의', '허리', '통증', '비결']</td>\n",
       "      <td>['건강', '몸신', '허리', '통증', '비결']</td>\n",
       "    </tr>\n",
       "    <tr>\n",
       "      <th>3</th>\n",
       "      <td>31623329</td>\n",
       "      <td>[건강]국민연금공단 연계 '두근두근 뇌운동(치매의 이해와 예방)'</td>\n",
       "      <td>건강 국민연금공단 연계  두근두근 뇌운동 치매의 이해와 예방</td>\n",
       "      <td>['건강', '국민연금', '공단', '계', '뇌', '운동', '치매', '이해...</td>\n",
       "      <td>['건강', '국민', '연금', '공단', '연계', '뇌', '운동', '치매'...</td>\n",
       "    </tr>\n",
       "    <tr>\n",
       "      <th>4</th>\n",
       "      <td>32130888</td>\n",
       "      <td>[일자리센터 연계]50+일자리 상담(6월)</td>\n",
       "      <td>일자리센터 연계   일자리 상담</td>\n",
       "      <td>['일자리', '센터', '계', '일자리', '상담']</td>\n",
       "      <td>['일자리', '센터', '연계', '일자리', '상담']</td>\n",
       "    </tr>\n",
       "  </tbody>\n",
       "</table>\n",
       "</div>"
      ],
      "text/plain": [
       "         번호                                   교육명   \n",
       "0  31622628                 [주거]초록쉼표, 식물과 함께하는 일상  \\\n",
       "1  32138091                  [맞춤형일자리]서류평가관 활동 설명회   \n",
       "2  31623735                   [건강]몸신의 허리통증 없애는 비결   \n",
       "3  31623329  [건강]국민연금공단 연계 '두근두근 뇌운동(치매의 이해와 예방)'   \n",
       "4  32130888               [일자리센터 연계]50+일자리 상담(6월)   \n",
       "\n",
       "                         clean_sentence   \n",
       "0                  주거 초록쉼표  식물과 함께하는 일상  \\\n",
       "1                   맞춤형일자리 서류평가관 활동 설명회   \n",
       "2                    건강 몸신의 허리통증 없애는 비결   \n",
       "3   건강 국민연금공단 연계  두근두근 뇌운동 치매의 이해와 예방     \n",
       "4                  일자리센터 연계   일자리 상담      \n",
       "\n",
       "                                                 okt   \n",
       "0                     ['주거', '초록', '쉼표', '식물', '일상']  \\\n",
       "1    ['맞춤', '일자리', '서류', '평가', '관', '활동', '설명', '회']   \n",
       "2                ['건강', '몸', '신의', '허리', '통증', '비결']   \n",
       "3  ['건강', '국민연금', '공단', '계', '뇌', '운동', '치매', '이해...   \n",
       "4                    ['일자리', '센터', '계', '일자리', '상담']   \n",
       "\n",
       "                                               mecab  \n",
       "0                     ['주거', '초록', '쉼표', '식물', '일상']  \n",
       "1    ['맞춤', '일자리', '서류', '평가', '관', '활동', '설', '명회']  \n",
       "2                     ['건강', '몸신', '허리', '통증', '비결']  \n",
       "3  ['건강', '국민', '연금', '공단', '연계', '뇌', '운동', '치매'...  \n",
       "4                   ['일자리', '센터', '연계', '일자리', '상담']  "
      ]
     },
     "execution_count": 23,
     "metadata": {},
     "output_type": "execute_result"
    }
   ],
   "source": [
    "data.head()"
   ]
  },
  {
   "cell_type": "code",
   "execution_count": null,
   "id": "8f1ef1ca",
   "metadata": {},
   "outputs": [],
   "source": []
  }
 ],
 "metadata": {
  "kernelspec": {
   "display_name": "Python 3 (ipykernel)",
   "language": "python",
   "name": "python3"
  },
  "language_info": {
   "codemirror_mode": {
    "name": "ipython",
    "version": 3
   },
   "file_extension": ".py",
   "mimetype": "text/x-python",
   "name": "python",
   "nbconvert_exporter": "python",
   "pygments_lexer": "ipython3",
   "version": "3.8.16"
  }
 },
 "nbformat": 4,
 "nbformat_minor": 5
}
