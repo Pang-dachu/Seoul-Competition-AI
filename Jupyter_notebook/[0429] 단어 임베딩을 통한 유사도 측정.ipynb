{
 "cells": [
  {
   "cell_type": "markdown",
   "id": "d9c8e0d6",
   "metadata": {},
   "source": [
    "### 필요 라이브러리"
   ]
  },
  {
   "cell_type": "code",
   "execution_count": 1,
   "id": "76371df5",
   "metadata": {},
   "outputs": [
    {
     "name": "stderr",
     "output_type": "stream",
     "text": [
      "2023-04-30 02:01:39.673707: I tensorflow/core/platform/cpu_feature_guard.cc:182] This TensorFlow binary is optimized to use available CPU instructions in performance-critical operations.\n",
      "To enable the following instructions: AVX2 FMA, in other operations, rebuild TensorFlow with the appropriate compiler flags.\n",
      "2023-04-30 02:01:40.516239: W tensorflow/compiler/tf2tensorrt/utils/py_utils.cc:38] TF-TRT Warning: Could not find TensorRT\n"
     ]
    }
   ],
   "source": [
    "import numpy as np\n",
    "import pandas as pd \n",
    "\n",
    "pd.options.display.max_columns = None\n",
    "pd.options.display.max_rows = None\n",
    "\n",
    "import tensorflow as tf \n",
    "\n",
    "import matplotlib.pyplot as plt\n",
    "import seaborn as sns\n",
    "\n",
    "import warnings\n",
    "warnings.filterwarnings(\"ignore\")"
   ]
  },
  {
   "cell_type": "markdown",
   "id": "c7390c16",
   "metadata": {},
   "source": [
    "### Local 환경의 파일 불러오기 "
   ]
  },
  {
   "cell_type": "code",
   "execution_count": 2,
   "id": "63f36e2c",
   "metadata": {},
   "outputs": [],
   "source": [
    "# Font \n",
    "FONT_PATH = \"/home/jupyter/Fonts/NanumSquareR.ttf\"\n",
    "\n",
    "plt.rcParams['axes.unicode_minus']=False\n",
    "plt.rcParams['font.family'] = \"NanumGothic\""
   ]
  },
  {
   "cell_type": "code",
   "execution_count": 3,
   "id": "f725deb0",
   "metadata": {},
   "outputs": [],
   "source": [
    "# 경로 \n",
    "file_path = \"/home/jupyter/직업교육/\""
   ]
  },
  {
   "cell_type": "code",
   "execution_count": 4,
   "id": "a21c841f",
   "metadata": {},
   "outputs": [],
   "source": [
    "# 파일명\n",
    "file = \"education_tokenize_data.csv\""
   ]
  },
  {
   "cell_type": "code",
   "execution_count": 5,
   "id": "b9f1b000",
   "metadata": {},
   "outputs": [],
   "source": [
    "# csv 불러오기 \n",
    "data = pd.read_csv(file_path + file)"
   ]
  },
  {
   "cell_type": "code",
   "execution_count": 6,
   "id": "33424366",
   "metadata": {},
   "outputs": [
    {
     "data": {
      "text/plain": [
       "(10692, 5)"
      ]
     },
     "execution_count": 6,
     "metadata": {},
     "output_type": "execute_result"
    }
   ],
   "source": [
    "data.shape"
   ]
  },
  {
   "cell_type": "code",
   "execution_count": 7,
   "id": "dd905170",
   "metadata": {
    "scrolled": false
   },
   "outputs": [
    {
     "data": {
      "text/html": [
       "<div>\n",
       "<style scoped>\n",
       "    .dataframe tbody tr th:only-of-type {\n",
       "        vertical-align: middle;\n",
       "    }\n",
       "\n",
       "    .dataframe tbody tr th {\n",
       "        vertical-align: top;\n",
       "    }\n",
       "\n",
       "    .dataframe thead th {\n",
       "        text-align: right;\n",
       "    }\n",
       "</style>\n",
       "<table border=\"1\" class=\"dataframe\">\n",
       "  <thead>\n",
       "    <tr style=\"text-align: right;\">\n",
       "      <th></th>\n",
       "      <th>번호</th>\n",
       "      <th>교육명</th>\n",
       "      <th>clean_sentence</th>\n",
       "      <th>okt</th>\n",
       "      <th>mecab</th>\n",
       "    </tr>\n",
       "  </thead>\n",
       "  <tbody>\n",
       "    <tr>\n",
       "      <th>0</th>\n",
       "      <td>31622628</td>\n",
       "      <td>[주거]초록쉼표, 식물과 함께하는 일상</td>\n",
       "      <td>주거 초록쉼표  식물과 함께하는 일상</td>\n",
       "      <td>['주거', '초록', '쉼표', '식물', '일상']</td>\n",
       "      <td>['주거', '초록', '쉼표', '식물', '일상']</td>\n",
       "    </tr>\n",
       "    <tr>\n",
       "      <th>1</th>\n",
       "      <td>32138091</td>\n",
       "      <td>[맞춤형일자리]서류평가관 활동 설명회</td>\n",
       "      <td>맞춤형일자리 서류평가관 활동 설명회</td>\n",
       "      <td>['맞춤', '일자리', '서류', '평가', '관', '활동', '설명', '회']</td>\n",
       "      <td>['맞춤', '일자리', '서류', '평가', '관', '활동', '설', '명회']</td>\n",
       "    </tr>\n",
       "    <tr>\n",
       "      <th>2</th>\n",
       "      <td>31623735</td>\n",
       "      <td>[건강]몸신의 허리통증 없애는 비결</td>\n",
       "      <td>건강 몸신의 허리통증 없애는 비결</td>\n",
       "      <td>['건강', '몸', '신의', '허리', '통증', '비결']</td>\n",
       "      <td>['건강', '몸신', '허리', '통증', '비결']</td>\n",
       "    </tr>\n",
       "    <tr>\n",
       "      <th>3</th>\n",
       "      <td>31623329</td>\n",
       "      <td>[건강]국민연금공단 연계 '두근두근 뇌운동(치매의 이해와 예방)'</td>\n",
       "      <td>건강 국민연금공단 연계  두근두근 뇌운동 치매의 이해와 예방</td>\n",
       "      <td>['건강', '국민연금', '공단', '계', '뇌', '운동', '치매', '이해...</td>\n",
       "      <td>['건강', '국민', '연금', '공단', '연계', '뇌', '운동', '치매'...</td>\n",
       "    </tr>\n",
       "    <tr>\n",
       "      <th>4</th>\n",
       "      <td>32130888</td>\n",
       "      <td>[일자리센터 연계]50+일자리 상담(6월)</td>\n",
       "      <td>일자리센터 연계   일자리 상담</td>\n",
       "      <td>['일자리', '센터', '계', '일자리', '상담']</td>\n",
       "      <td>['일자리', '센터', '연계', '일자리', '상담']</td>\n",
       "    </tr>\n",
       "  </tbody>\n",
       "</table>\n",
       "</div>"
      ],
      "text/plain": [
       "         번호                                   교육명   \n",
       "0  31622628                 [주거]초록쉼표, 식물과 함께하는 일상  \\\n",
       "1  32138091                  [맞춤형일자리]서류평가관 활동 설명회   \n",
       "2  31623735                   [건강]몸신의 허리통증 없애는 비결   \n",
       "3  31623329  [건강]국민연금공단 연계 '두근두근 뇌운동(치매의 이해와 예방)'   \n",
       "4  32130888               [일자리센터 연계]50+일자리 상담(6월)   \n",
       "\n",
       "                         clean_sentence   \n",
       "0                  주거 초록쉼표  식물과 함께하는 일상  \\\n",
       "1                   맞춤형일자리 서류평가관 활동 설명회   \n",
       "2                    건강 몸신의 허리통증 없애는 비결   \n",
       "3   건강 국민연금공단 연계  두근두근 뇌운동 치매의 이해와 예방     \n",
       "4                  일자리센터 연계   일자리 상담      \n",
       "\n",
       "                                                 okt   \n",
       "0                     ['주거', '초록', '쉼표', '식물', '일상']  \\\n",
       "1    ['맞춤', '일자리', '서류', '평가', '관', '활동', '설명', '회']   \n",
       "2                ['건강', '몸', '신의', '허리', '통증', '비결']   \n",
       "3  ['건강', '국민연금', '공단', '계', '뇌', '운동', '치매', '이해...   \n",
       "4                    ['일자리', '센터', '계', '일자리', '상담']   \n",
       "\n",
       "                                               mecab  \n",
       "0                     ['주거', '초록', '쉼표', '식물', '일상']  \n",
       "1    ['맞춤', '일자리', '서류', '평가', '관', '활동', '설', '명회']  \n",
       "2                     ['건강', '몸신', '허리', '통증', '비결']  \n",
       "3  ['건강', '국민', '연금', '공단', '연계', '뇌', '운동', '치매'...  \n",
       "4                   ['일자리', '센터', '연계', '일자리', '상담']  "
      ]
     },
     "execution_count": 7,
     "metadata": {},
     "output_type": "execute_result"
    }
   ],
   "source": [
    "data.head()"
   ]
  },
  {
   "cell_type": "markdown",
   "id": "847df575",
   "metadata": {},
   "source": [
    "### 입력 문장에 대한 전처리가 필요하므로 사용했던 함수 작성"
   ]
  },
  {
   "cell_type": "code",
   "execution_count": 8,
   "id": "259c4172",
   "metadata": {},
   "outputs": [],
   "source": [
    "# 불용어 처리 \n",
    "import re\n",
    "\n",
    "def clean_sentence(sentence) :\n",
    "    # 날짜, 기수, 차수 제거 \n",
    "    sentence = re.sub(r\"[0-9]+년\", r\" \", sentence)\n",
    "    sentence = re.sub(r\"[0-9]+차\", r\" \", sentence)\n",
    "    sentence = re.sub(r\"[0-9]+기\", r\" \", sentence)\n",
    "    sentence = re.sub(r\"[0-9]+월\", r\" \", sentence)\n",
    "    sentence = re.sub(r\"[0-9]+일\", r\" \", sentence)\n",
    "    sentence = re.sub(r\"[0-9]{1,2}.[0-9]{1,2}\", r\" \", sentence)\n",
    "    \n",
    "    # (주) , (요일)\n",
    "    sentence = re.sub(r\"\\(+[가-힣]+\\)\", r\" \", sentence)\n",
    "    #sentence = re.sub(r\"[/s]\\(.\\)[/s]\", r\" \", sentence)\n",
    "    \n",
    "    # 주차, 요일 형식 제거 \n",
    "    # sentence = re.sub(r\"[가-힣]{2}주\", r\" \", sentence) \n",
    "    # \"알려주는\" 단어에 영향이 생김\n",
    "    \n",
    "    sentence = re.sub(r\"[가-힣]째주\", r\" \", sentence) \n",
    "#     sentence = re.sub(r\"둘째주\", r\" \", sentence) \n",
    "#     sentence = re.sub(r\"셋째주\", r\" \", sentence) \n",
    "#     sentence = re.sub(r\"넷째주\", r\" \", sentence) \n",
    "    \n",
    "    sentence = re.sub(r\"[가-힣]{1}요일\", r\" \", sentence)\n",
    "    \n",
    "    # 마감 키워드 필요 없음\n",
    "    sentence = re.sub(r\"마감\", r\" \", sentence)\n",
    "    \n",
    "    # 50이라는 숫자 필요 없음 \n",
    "    sentence = re.sub(r\"50\", r\" \", sentence)\n",
    "    # 자격증 n급 필요 없을듯 \n",
    "    sentence = re.sub(r\"[0-9]+급\", r\" \", sentence)\n",
    "    # n단계도 필요 없을듯 \n",
    "    sentence = re.sub(r\"[0-9]+단계\", r\" \", sentence)\n",
    "    \n",
    "    sentence = re.sub(r\"[^0-9가-힣a-zA-Z]\", r\" \", sentence)\n",
    "    return sentence"
   ]
  },
  {
   "cell_type": "code",
   "execution_count": 9,
   "id": "5c98f957",
   "metadata": {},
   "outputs": [],
   "source": [
    "from konlpy.tag import Okt, Komoran, Mecab, Hannanum, Kkma\n",
    "\n",
    "# 다양한 토크나이저를 사용할 수 있는 함수\n",
    "def get_tokenizer(tokenizer_name):\n",
    "    if tokenizer_name == \"komoran\":\n",
    "        tokenizer = Komoran()\n",
    "    elif tokenizer_name == \"okt\":\n",
    "        tokenizer = Okt()\n",
    "    elif tokenizer_name == \"mecab\":\n",
    "        tokenizer = Mecab()\n",
    "    elif tokenizer_name == \"hannanum\":\n",
    "        tokenizer = Hannanum()\n",
    "    else:\n",
    "        # \"kkma\":\n",
    "        tokenizer = Kkma()\n",
    "        \n",
    "    return tokenizer"
   ]
  },
  {
   "cell_type": "code",
   "execution_count": 93,
   "id": "e4fb26ef",
   "metadata": {},
   "outputs": [],
   "source": [
    "def tokenize(tokenizer_name, original_sent, nouns=False):\n",
    "    # 미리 정의된 몇 가지 tokenizer 중 하나를 선택\n",
    "    tokenizer = get_tokenizer(tokenizer_name)\n",
    "\n",
    "    # tokenizer를 이용하여 original_sent를 토큰화하여 tokenized_sent에 저장하고, 이를 반환합니다.\n",
    "    sentence = original_sent.replace('\\n', '').strip()\n",
    "    if nouns:       \n",
    "        # tokenizer.nouns(sentence) -> 명사만 추출\n",
    "        tokens = tokenizer.nouns(sentence)\n",
    "    else:\n",
    "        tokens = tokenizer.morphs(sentence)\n",
    "    \n",
    "    return list( map(str, tokens) )"
   ]
  },
  {
   "cell_type": "markdown",
   "id": "f555f1d5",
   "metadata": {},
   "source": [
    "### TF-IDF 활용 문장간 유사도 측정"
   ]
  },
  {
   "cell_type": "code",
   "execution_count": 11,
   "id": "115da8e8",
   "metadata": {},
   "outputs": [],
   "source": [
    "from sklearn.feature_extraction.text import TfidfVectorizer"
   ]
  },
  {
   "cell_type": "code",
   "execution_count": 12,
   "id": "0406b129",
   "metadata": {},
   "outputs": [],
   "source": [
    "tfidf_mecab = TfidfVectorizer().fit( data[\"mecab\"] )\n",
    "tfidf_okt = TfidfVectorizer().fit( data[\"okt\"] )"
   ]
  },
  {
   "cell_type": "code",
   "execution_count": 13,
   "id": "3a6a56f6",
   "metadata": {},
   "outputs": [
    {
     "data": {
      "text/plain": [
       "4214"
      ]
     },
     "execution_count": 13,
     "metadata": {},
     "output_type": "execute_result"
    }
   ],
   "source": [
    "len( tfidf_mecab.vocabulary_ )"
   ]
  },
  {
   "cell_type": "code",
   "execution_count": 14,
   "id": "a522d842",
   "metadata": {},
   "outputs": [],
   "source": [
    "mecab_tf = tfidf_mecab.transform( data[\"mecab\"] ).toarray()"
   ]
  },
  {
   "cell_type": "code",
   "execution_count": 15,
   "id": "aee150ee",
   "metadata": {},
   "outputs": [
    {
     "data": {
      "text/plain": [
       "(10692, 4214)"
      ]
     },
     "execution_count": 15,
     "metadata": {},
     "output_type": "execute_result"
    }
   ],
   "source": [
    "mecab_tf.shape"
   ]
  },
  {
   "cell_type": "code",
   "execution_count": 16,
   "id": "8b302990",
   "metadata": {},
   "outputs": [],
   "source": [
    "def l1_normalize(v):\n",
    "  norm = np.sum(v)\n",
    "  return v / norm"
   ]
  },
  {
   "cell_type": "code",
   "execution_count": 53,
   "id": "f1b856f9",
   "metadata": {},
   "outputs": [],
   "source": [
    "tfidf_vectorizer = TfidfVectorizer()\n",
    "tfidf_mecab = tfidf_vectorizer.fit_transform( data[\"mecab\"] )\n",
    "tfidf_norm_l1 = l1_normalize(tfidf_mecab)"
   ]
  },
  {
   "cell_type": "code",
   "execution_count": 18,
   "id": "d251d188",
   "metadata": {},
   "outputs": [
    {
     "data": {
      "text/plain": [
       "<10692x4214 sparse matrix of type '<class 'numpy.float64'>'\n",
       "\twith 50928 stored elements in Compressed Sparse Row format>"
      ]
     },
     "execution_count": 18,
     "metadata": {},
     "output_type": "execute_result"
    }
   ],
   "source": [
    "tfidf_norm_l1"
   ]
  },
  {
   "cell_type": "markdown",
   "id": "ec582356",
   "metadata": {},
   "source": [
    "### cosin 유사도 측정"
   ]
  },
  {
   "cell_type": "code",
   "execution_count": 41,
   "id": "84495e99",
   "metadata": {},
   "outputs": [],
   "source": [
    "from sklearn.metrics.pairwise import cosine_similarity"
   ]
  },
  {
   "cell_type": "code",
   "execution_count": 42,
   "id": "2b997193",
   "metadata": {},
   "outputs": [],
   "source": [
    "def cosine_similarity_value(vec_1, vec_2):\n",
    "  return round(cosine_similarity(vec_1, vec_2)[0][0], 3)"
   ]
  },
  {
   "cell_type": "code",
   "execution_count": 155,
   "id": "c535237e",
   "metadata": {},
   "outputs": [
    {
     "name": "stdout",
     "output_type": "stream",
     "text": [
      "코딩 교육 \n"
     ]
    }
   ],
   "source": [
    "## 검색 데이터 입력 \n",
    "input_data = input()"
   ]
  },
  {
   "cell_type": "code",
   "execution_count": 156,
   "id": "fa6e806c",
   "metadata": {},
   "outputs": [],
   "source": [
    "# 임시 데이터 프레임 생성 후 전처리 진행\n",
    "\n",
    "temp = pd.DataFrame({\n",
    "    \"번호\" : \"0000\",\n",
    "    \"교육명\": [input_data],\n",
    "    \"clean_sentence\" : clean_sentence(input_data),\n",
    "     \"okt\" : [\"123\"],\n",
    "     \"mecab\" : [\"123\"]\n",
    "})\n",
    "\n",
    "temp[\"okt\"] = temp[\"clean_sentence\"].apply(lambda x : tokenize(\"okt\", x, True) )\n",
    "temp[\"mecab\"] = temp[\"clean_sentence\"].apply(lambda x : tokenize(\"mecab\", x, True) )\n",
    "\n",
    "temp[\"okt\"] = temp[\"okt\"].apply(lambda x : str(x) for x in temp[\"okt\"])\n",
    "temp[\"mecab\"] = temp[\"mecab\"].apply(lambda x : str(x) for x in temp[\"mecab\"])"
   ]
  },
  {
   "cell_type": "code",
   "execution_count": 157,
   "id": "cfe1a4a3",
   "metadata": {},
   "outputs": [
    {
     "data": {
      "text/html": [
       "<div>\n",
       "<style scoped>\n",
       "    .dataframe tbody tr th:only-of-type {\n",
       "        vertical-align: middle;\n",
       "    }\n",
       "\n",
       "    .dataframe tbody tr th {\n",
       "        vertical-align: top;\n",
       "    }\n",
       "\n",
       "    .dataframe thead th {\n",
       "        text-align: right;\n",
       "    }\n",
       "</style>\n",
       "<table border=\"1\" class=\"dataframe\">\n",
       "  <thead>\n",
       "    <tr style=\"text-align: right;\">\n",
       "      <th></th>\n",
       "      <th>번호</th>\n",
       "      <th>교육명</th>\n",
       "      <th>clean_sentence</th>\n",
       "      <th>okt</th>\n",
       "      <th>mecab</th>\n",
       "    </tr>\n",
       "  </thead>\n",
       "  <tbody>\n",
       "    <tr>\n",
       "      <th>0</th>\n",
       "      <td>0000</td>\n",
       "      <td>코딩 교육</td>\n",
       "      <td>코딩 교육</td>\n",
       "      <td>['코딩', '교육']</td>\n",
       "      <td>['코딩', '교육']</td>\n",
       "    </tr>\n",
       "  </tbody>\n",
       "</table>\n",
       "</div>"
      ],
      "text/plain": [
       "     번호     교육명 clean_sentence           okt         mecab\n",
       "0  0000  코딩 교육          코딩 교육   ['코딩', '교육']  ['코딩', '교육']"
      ]
     },
     "execution_count": 157,
     "metadata": {},
     "output_type": "execute_result"
    }
   ],
   "source": [
    "temp"
   ]
  },
  {
   "cell_type": "code",
   "execution_count": 158,
   "id": "766b33c4",
   "metadata": {},
   "outputs": [],
   "source": [
    "data = pd.concat([data,temp])\n",
    "data = data.reset_index( drop=True )"
   ]
  },
  {
   "cell_type": "code",
   "execution_count": 159,
   "id": "78fa6d67",
   "metadata": {},
   "outputs": [
    {
     "data": {
      "text/html": [
       "<div>\n",
       "<style scoped>\n",
       "    .dataframe tbody tr th:only-of-type {\n",
       "        vertical-align: middle;\n",
       "    }\n",
       "\n",
       "    .dataframe tbody tr th {\n",
       "        vertical-align: top;\n",
       "    }\n",
       "\n",
       "    .dataframe thead th {\n",
       "        text-align: right;\n",
       "    }\n",
       "</style>\n",
       "<table border=\"1\" class=\"dataframe\">\n",
       "  <thead>\n",
       "    <tr style=\"text-align: right;\">\n",
       "      <th></th>\n",
       "      <th>번호</th>\n",
       "      <th>교육명</th>\n",
       "      <th>clean_sentence</th>\n",
       "      <th>okt</th>\n",
       "      <th>mecab</th>\n",
       "      <th>cosin</th>\n",
       "    </tr>\n",
       "  </thead>\n",
       "  <tbody>\n",
       "    <tr>\n",
       "      <th>10689</th>\n",
       "      <td>257</td>\n",
       "      <td>건설업 기초안전보건교육</td>\n",
       "      <td>건설업 기초안전보건교육</td>\n",
       "      <td>['건설업', '기초', '안전', '보건', '교육']</td>\n",
       "      <td>['건설업', '기초', '안전', '보건', '교육']</td>\n",
       "      <td>0.0</td>\n",
       "    </tr>\n",
       "    <tr>\n",
       "      <th>10690</th>\n",
       "      <td>258</td>\n",
       "      <td>취업설계교육 1기</td>\n",
       "      <td>취업설계교육</td>\n",
       "      <td>['취업', '설계', '교육']</td>\n",
       "      <td>['취업', '설계', '교육']</td>\n",
       "      <td>0.0</td>\n",
       "    </tr>\n",
       "    <tr>\n",
       "      <th>10691</th>\n",
       "      <td>259</td>\n",
       "      <td>2023년 직업교육_일반경비원 신임교육 5기</td>\n",
       "      <td>직업교육 일반경비원 신임교육</td>\n",
       "      <td>['직업', '교육', '일반', '경비원', '신임', '교육']</td>\n",
       "      <td>['직업', '교육', '일반', '경비원', '신임', '교육']</td>\n",
       "      <td>0.0</td>\n",
       "    </tr>\n",
       "    <tr>\n",
       "      <th>10692</th>\n",
       "      <td>0000</td>\n",
       "      <td>청소 일자리 ?</td>\n",
       "      <td>청소 일자리</td>\n",
       "      <td>['청소', '일자리']</td>\n",
       "      <td>['청소', '일자리']</td>\n",
       "      <td>1.0</td>\n",
       "    </tr>\n",
       "    <tr>\n",
       "      <th>10693</th>\n",
       "      <td>0000</td>\n",
       "      <td>코딩 교육</td>\n",
       "      <td>코딩 교육</td>\n",
       "      <td>['코딩', '교육']</td>\n",
       "      <td>['코딩', '교육']</td>\n",
       "      <td>NaN</td>\n",
       "    </tr>\n",
       "  </tbody>\n",
       "</table>\n",
       "</div>"
      ],
      "text/plain": [
       "         번호                       교육명       clean_sentence   \n",
       "10689   257              건설업 기초안전보건교육         건설업 기초안전보건교육  \\\n",
       "10690   258                 취업설계교육 1기             취업설계교육     \n",
       "10691   259  2023년 직업교육_일반경비원 신임교육 5기    직업교육 일반경비원 신임교육     \n",
       "10692  0000                  청소 일자리 ?             청소 일자리     \n",
       "10693  0000                    코딩 교육                코딩 교육    \n",
       "\n",
       "                                         okt   \n",
       "10689        ['건설업', '기초', '안전', '보건', '교육']  \\\n",
       "10690                     ['취업', '설계', '교육']   \n",
       "10691  ['직업', '교육', '일반', '경비원', '신임', '교육']   \n",
       "10692                          ['청소', '일자리']   \n",
       "10693                           ['코딩', '교육']   \n",
       "\n",
       "                                       mecab  cosin  \n",
       "10689        ['건설업', '기초', '안전', '보건', '교육']    0.0  \n",
       "10690                     ['취업', '설계', '교육']    0.0  \n",
       "10691  ['직업', '교육', '일반', '경비원', '신임', '교육']    0.0  \n",
       "10692                          ['청소', '일자리']    1.0  \n",
       "10693                           ['코딩', '교육']    NaN  "
      ]
     },
     "execution_count": 159,
     "metadata": {},
     "output_type": "execute_result"
    }
   ],
   "source": [
    "data.tail()"
   ]
  },
  {
   "cell_type": "code",
   "execution_count": 143,
   "id": "44b7b120",
   "metadata": {},
   "outputs": [
    {
     "data": {
      "text/html": [
       "<div>\n",
       "<style scoped>\n",
       "    .dataframe tbody tr th:only-of-type {\n",
       "        vertical-align: middle;\n",
       "    }\n",
       "\n",
       "    .dataframe tbody tr th {\n",
       "        vertical-align: top;\n",
       "    }\n",
       "\n",
       "    .dataframe thead th {\n",
       "        text-align: right;\n",
       "    }\n",
       "</style>\n",
       "<table border=\"1\" class=\"dataframe\">\n",
       "  <thead>\n",
       "    <tr style=\"text-align: right;\">\n",
       "      <th></th>\n",
       "      <th>번호</th>\n",
       "      <th>교육명</th>\n",
       "      <th>clean_sentence</th>\n",
       "      <th>okt</th>\n",
       "      <th>mecab</th>\n",
       "      <th>cosin</th>\n",
       "    </tr>\n",
       "  </thead>\n",
       "  <tbody>\n",
       "    <tr>\n",
       "      <th>10687</th>\n",
       "      <td>255</td>\n",
       "      <td>취업준비교육 4기</td>\n",
       "      <td>취업준비교육</td>\n",
       "      <td>['취업', '준비', '교육']</td>\n",
       "      <td>['취업', '준비', '교육']</td>\n",
       "      <td>0.000</td>\n",
       "    </tr>\n",
       "    <tr>\n",
       "      <th>10688</th>\n",
       "      <td>256</td>\n",
       "      <td>병원동행매니저 교육 1기</td>\n",
       "      <td>병원동행매니저 교육</td>\n",
       "      <td>['병원', '동행', '매니저', '교육']</td>\n",
       "      <td>['병원', '동행', '매니저', '교육']</td>\n",
       "      <td>0.000</td>\n",
       "    </tr>\n",
       "    <tr>\n",
       "      <th>10689</th>\n",
       "      <td>257</td>\n",
       "      <td>건설업 기초안전보건교육</td>\n",
       "      <td>건설업 기초안전보건교육</td>\n",
       "      <td>['건설업', '기초', '안전', '보건', '교육']</td>\n",
       "      <td>['건설업', '기초', '안전', '보건', '교육']</td>\n",
       "      <td>0.000</td>\n",
       "    </tr>\n",
       "    <tr>\n",
       "      <th>10690</th>\n",
       "      <td>258</td>\n",
       "      <td>취업설계교육 1기</td>\n",
       "      <td>취업설계교육</td>\n",
       "      <td>['취업', '설계', '교육']</td>\n",
       "      <td>['취업', '설계', '교육']</td>\n",
       "      <td>0.000</td>\n",
       "    </tr>\n",
       "    <tr>\n",
       "      <th>10691</th>\n",
       "      <td>259</td>\n",
       "      <td>2023년 직업교육_일반경비원 신임교육 5기</td>\n",
       "      <td>직업교육 일반경비원 신임교육</td>\n",
       "      <td>['직업', '교육', '일반', '경비원', '신임', '교육']</td>\n",
       "      <td>['직업', '교육', '일반', '경비원', '신임', '교육']</td>\n",
       "      <td>0.395</td>\n",
       "    </tr>\n",
       "  </tbody>\n",
       "</table>\n",
       "</div>"
      ],
      "text/plain": [
       "        번호                       교육명       clean_sentence   \n",
       "10687  255                 취업준비교육 4기             취업준비교육    \\\n",
       "10688  256             병원동행매니저 교육 1기         병원동행매니저 교육     \n",
       "10689  257              건설업 기초안전보건교육         건설업 기초안전보건교육   \n",
       "10690  258                 취업설계교육 1기             취업설계교육     \n",
       "10691  259  2023년 직업교육_일반경비원 신임교육 5기    직업교육 일반경비원 신임교육     \n",
       "\n",
       "                                         okt   \n",
       "10687                     ['취업', '준비', '교육']  \\\n",
       "10688              ['병원', '동행', '매니저', '교육']   \n",
       "10689        ['건설업', '기초', '안전', '보건', '교육']   \n",
       "10690                     ['취업', '설계', '교육']   \n",
       "10691  ['직업', '교육', '일반', '경비원', '신임', '교육']   \n",
       "\n",
       "                                       mecab  cosin  \n",
       "10687                     ['취업', '준비', '교육']  0.000  \n",
       "10688              ['병원', '동행', '매니저', '교육']  0.000  \n",
       "10689        ['건설업', '기초', '안전', '보건', '교육']  0.000  \n",
       "10690                     ['취업', '설계', '교육']  0.000  \n",
       "10691  ['직업', '교육', '일반', '경비원', '신임', '교육']  0.395  "
      ]
     },
     "execution_count": 143,
     "metadata": {},
     "output_type": "execute_result"
    }
   ],
   "source": [
    "# data = data.drop([10693], axis=0)\n",
    "\n",
    "# data.tail()"
   ]
  },
  {
   "cell_type": "code",
   "execution_count": 160,
   "id": "b4c326b8",
   "metadata": {},
   "outputs": [],
   "source": [
    "tfidf_vectorizer = TfidfVectorizer()\n",
    "tfidf_mecab = tfidf_vectorizer.fit( data[\"mecab\"] )\n",
    "tfidf_mecab = tfidf_vectorizer.transform( data[\"mecab\"] )\n",
    "tfidf_norm_l1 = l1_normalize(tfidf_mecab)"
   ]
  },
  {
   "cell_type": "code",
   "execution_count": 161,
   "id": "278b5ae9",
   "metadata": {},
   "outputs": [],
   "source": [
    "target = tfidf_norm_l1[-1]"
   ]
  },
  {
   "cell_type": "code",
   "execution_count": 162,
   "id": "ce08f730",
   "metadata": {},
   "outputs": [],
   "source": [
    "result = []\n",
    "\n",
    "for i in tfidf_norm_l1 :\n",
    "    result.append( cosine_similarity_value(target, i) )"
   ]
  },
  {
   "cell_type": "code",
   "execution_count": 163,
   "id": "1ff4ad9b",
   "metadata": {},
   "outputs": [],
   "source": [
    "data[\"cosin\"] = result"
   ]
  },
  {
   "cell_type": "code",
   "execution_count": 164,
   "id": "12c1cacf",
   "metadata": {},
   "outputs": [
    {
     "data": {
      "text/html": [
       "<div>\n",
       "<style scoped>\n",
       "    .dataframe tbody tr th:only-of-type {\n",
       "        vertical-align: middle;\n",
       "    }\n",
       "\n",
       "    .dataframe tbody tr th {\n",
       "        vertical-align: top;\n",
       "    }\n",
       "\n",
       "    .dataframe thead th {\n",
       "        text-align: right;\n",
       "    }\n",
       "</style>\n",
       "<table border=\"1\" class=\"dataframe\">\n",
       "  <thead>\n",
       "    <tr style=\"text-align: right;\">\n",
       "      <th></th>\n",
       "      <th>번호</th>\n",
       "      <th>교육명</th>\n",
       "      <th>clean_sentence</th>\n",
       "      <th>okt</th>\n",
       "      <th>mecab</th>\n",
       "      <th>cosin</th>\n",
       "    </tr>\n",
       "  </thead>\n",
       "  <tbody>\n",
       "    <tr>\n",
       "      <th>8672</th>\n",
       "      <td>4766660</td>\n",
       "      <td>[코딩교육 프로그램 강사 - 필수 교육]</td>\n",
       "      <td>코딩교육 프로그램 강사   필수 교육</td>\n",
       "      <td>['코딩', '교육', '프로그램', '강사', '필수', '교육']</td>\n",
       "      <td>['코딩', '교육', '프로그램', '강사', '필수', '교육']</td>\n",
       "      <td>0.665</td>\n",
       "    </tr>\n",
       "    <tr>\n",
       "      <th>7940</th>\n",
       "      <td>6167598</td>\n",
       "      <td>[50+자유학교] 앱코딩 (앱인벤터)</td>\n",
       "      <td>자유학교  앱코딩</td>\n",
       "      <td>['자유', '학교', '앱', '코딩']</td>\n",
       "      <td>['자유', '학교', '앱', '코딩']</td>\n",
       "      <td>0.586</td>\n",
       "    </tr>\n",
       "    <tr>\n",
       "      <th>3717</th>\n",
       "      <td>25341751</td>\n",
       "      <td>드론코딩및스마트스포츠체험(코딩 교실)</td>\n",
       "      <td>드론코딩및스마트스포츠체험 코딩 교실</td>\n",
       "      <td>['드론', '코딩', '및', '스마트', '스포츠', '체험', '코딩', '교실']</td>\n",
       "      <td>['드론', '코딩', '스마트', '스포츠', '체험', '코딩', '교실']</td>\n",
       "      <td>0.583</td>\n",
       "    </tr>\n",
       "    <tr>\n",
       "      <th>3579</th>\n",
       "      <td>26255335</td>\n",
       "      <td>그래서 코딩이 필요합니다(초급)</td>\n",
       "      <td>그래서 코딩이 필요합니다</td>\n",
       "      <td>['코딩']</td>\n",
       "      <td>['코딩', '필요']</td>\n",
       "      <td>0.567</td>\n",
       "    </tr>\n",
       "    <tr>\n",
       "      <th>3794</th>\n",
       "      <td>24676804</td>\n",
       "      <td>그래서 코딩이 필요합니다(중급)</td>\n",
       "      <td>그래서 코딩이 필요합니다</td>\n",
       "      <td>['코딩']</td>\n",
       "      <td>['코딩', '필요']</td>\n",
       "      <td>0.567</td>\n",
       "    </tr>\n",
       "  </tbody>\n",
       "</table>\n",
       "</div>"
      ],
      "text/plain": [
       "            번호                     교육명          clean_sentence   \n",
       "8672   4766660  [코딩교육 프로그램 강사 - 필수 교육]   코딩교육 프로그램 강사   필수 교육   \\\n",
       "7940   6167598    [50+자유학교] 앱코딩 (앱인벤터)             자유학교  앱코딩     \n",
       "3717  25341751    드론코딩및스마트스포츠체험(코딩 교실)    드론코딩및스마트스포츠체험 코딩 교실    \n",
       "3579  26255335       그래서 코딩이 필요합니다(초급)          그래서 코딩이 필요합니다    \n",
       "3794  24676804       그래서 코딩이 필요합니다(중급)          그래서 코딩이 필요합니다    \n",
       "\n",
       "                                                    okt   \n",
       "8672             ['코딩', '교육', '프로그램', '강사', '필수', '교육']  \\\n",
       "7940                            ['자유', '학교', '앱', '코딩']   \n",
       "3717  ['드론', '코딩', '및', '스마트', '스포츠', '체험', '코딩', '교실']   \n",
       "3579                                             ['코딩']   \n",
       "3794                                             ['코딩']   \n",
       "\n",
       "                                             mecab  cosin  \n",
       "8672        ['코딩', '교육', '프로그램', '강사', '필수', '교육']  0.665  \n",
       "7940                       ['자유', '학교', '앱', '코딩']  0.586  \n",
       "3717  ['드론', '코딩', '스마트', '스포츠', '체험', '코딩', '교실']  0.583  \n",
       "3579                                  ['코딩', '필요']  0.567  \n",
       "3794                                  ['코딩', '필요']  0.567  "
      ]
     },
     "execution_count": 164,
     "metadata": {},
     "output_type": "execute_result"
    }
   ],
   "source": [
    "data.sort_values([\"cosin\"], ascending=False)[1:6]"
   ]
  },
  {
   "cell_type": "code",
   "execution_count": 165,
   "id": "6bcc7fcb",
   "metadata": {},
   "outputs": [
    {
     "data": {
      "text/html": [
       "<div>\n",
       "<style scoped>\n",
       "    .dataframe tbody tr th:only-of-type {\n",
       "        vertical-align: middle;\n",
       "    }\n",
       "\n",
       "    .dataframe tbody tr th {\n",
       "        vertical-align: top;\n",
       "    }\n",
       "\n",
       "    .dataframe thead th {\n",
       "        text-align: right;\n",
       "    }\n",
       "</style>\n",
       "<table border=\"1\" class=\"dataframe\">\n",
       "  <thead>\n",
       "    <tr style=\"text-align: right;\">\n",
       "      <th></th>\n",
       "      <th>번호</th>\n",
       "      <th>교육명</th>\n",
       "      <th>clean_sentence</th>\n",
       "      <th>okt</th>\n",
       "      <th>mecab</th>\n",
       "      <th>cosin</th>\n",
       "    </tr>\n",
       "  </thead>\n",
       "  <tbody>\n",
       "    <tr>\n",
       "      <th>8672</th>\n",
       "      <td>4766660</td>\n",
       "      <td>[코딩교육 프로그램 강사 - 필수 교육]</td>\n",
       "      <td>코딩교육 프로그램 강사   필수 교육</td>\n",
       "      <td>['코딩', '교육', '프로그램', '강사', '필수', '교육']</td>\n",
       "      <td>['코딩', '교육', '프로그램', '강사', '필수', '교육']</td>\n",
       "      <td>0.665</td>\n",
       "    </tr>\n",
       "    <tr>\n",
       "      <th>7940</th>\n",
       "      <td>6167598</td>\n",
       "      <td>[50+자유학교] 앱코딩 (앱인벤터)</td>\n",
       "      <td>자유학교  앱코딩</td>\n",
       "      <td>['자유', '학교', '앱', '코딩']</td>\n",
       "      <td>['자유', '학교', '앱', '코딩']</td>\n",
       "      <td>0.586</td>\n",
       "    </tr>\n",
       "    <tr>\n",
       "      <th>3717</th>\n",
       "      <td>25341751</td>\n",
       "      <td>드론코딩및스마트스포츠체험(코딩 교실)</td>\n",
       "      <td>드론코딩및스마트스포츠체험 코딩 교실</td>\n",
       "      <td>['드론', '코딩', '및', '스마트', '스포츠', '체험', '코딩', '교실']</td>\n",
       "      <td>['드론', '코딩', '스마트', '스포츠', '체험', '코딩', '교실']</td>\n",
       "      <td>0.583</td>\n",
       "    </tr>\n",
       "    <tr>\n",
       "      <th>3579</th>\n",
       "      <td>26255335</td>\n",
       "      <td>그래서 코딩이 필요합니다(초급)</td>\n",
       "      <td>그래서 코딩이 필요합니다</td>\n",
       "      <td>['코딩']</td>\n",
       "      <td>['코딩', '필요']</td>\n",
       "      <td>0.567</td>\n",
       "    </tr>\n",
       "    <tr>\n",
       "      <th>3794</th>\n",
       "      <td>24676804</td>\n",
       "      <td>그래서 코딩이 필요합니다(중급)</td>\n",
       "      <td>그래서 코딩이 필요합니다</td>\n",
       "      <td>['코딩']</td>\n",
       "      <td>['코딩', '필요']</td>\n",
       "      <td>0.567</td>\n",
       "    </tr>\n",
       "  </tbody>\n",
       "</table>\n",
       "</div>"
      ],
      "text/plain": [
       "            번호                     교육명          clean_sentence   \n",
       "8672   4766660  [코딩교육 프로그램 강사 - 필수 교육]   코딩교육 프로그램 강사   필수 교육   \\\n",
       "7940   6167598    [50+자유학교] 앱코딩 (앱인벤터)             자유학교  앱코딩     \n",
       "3717  25341751    드론코딩및스마트스포츠체험(코딩 교실)    드론코딩및스마트스포츠체험 코딩 교실    \n",
       "3579  26255335       그래서 코딩이 필요합니다(초급)          그래서 코딩이 필요합니다    \n",
       "3794  24676804       그래서 코딩이 필요합니다(중급)          그래서 코딩이 필요합니다    \n",
       "\n",
       "                                                    okt   \n",
       "8672             ['코딩', '교육', '프로그램', '강사', '필수', '교육']  \\\n",
       "7940                            ['자유', '학교', '앱', '코딩']   \n",
       "3717  ['드론', '코딩', '및', '스마트', '스포츠', '체험', '코딩', '교실']   \n",
       "3579                                             ['코딩']   \n",
       "3794                                             ['코딩']   \n",
       "\n",
       "                                             mecab  cosin  \n",
       "8672        ['코딩', '교육', '프로그램', '강사', '필수', '교육']  0.665  \n",
       "7940                       ['자유', '학교', '앱', '코딩']  0.586  \n",
       "3717  ['드론', '코딩', '스마트', '스포츠', '체험', '코딩', '교실']  0.583  \n",
       "3579                                  ['코딩', '필요']  0.567  \n",
       "3794                                  ['코딩', '필요']  0.567  "
      ]
     },
     "execution_count": 165,
     "metadata": {},
     "output_type": "execute_result"
    }
   ],
   "source": [
    "temp = data.sort_values([\"cosin\"], ascending=False)[1:6]\n",
    "\n",
    "temp"
   ]
  },
  {
   "cell_type": "code",
   "execution_count": 166,
   "id": "bd71eae7",
   "metadata": {},
   "outputs": [
    {
     "data": {
      "text/plain": [
       "Index([8672, 7940, 3717, 3579, 3794], dtype='int64')"
      ]
     },
     "execution_count": 166,
     "metadata": {},
     "output_type": "execute_result"
    }
   ],
   "source": [
    "temp.index"
   ]
  },
  {
   "cell_type": "code",
   "execution_count": 203,
   "id": "0c666d73",
   "metadata": {},
   "outputs": [
    {
     "name": "stdout",
     "output_type": "stream",
     "text": [
      "[코딩교육 프로그램 강사 - 필수 교육] 0.665\n",
      "[50+자유학교] 앱코딩 (앱인벤터) 0.586\n",
      "드론코딩및스마트스포츠체험(코딩 교실) 0.583\n",
      "그래서 코딩이 필요합니다(초급) 0.567\n",
      "그래서 코딩이 필요합니다(중급) 0.567\n"
     ]
    }
   ],
   "source": [
    "for i,j in zip(data.iloc[temp.index][\"교육명\"], data.iloc[temp.index][\"cosin\"]):\n",
    "    print( i,j )"
   ]
  },
  {
   "cell_type": "code",
   "execution_count": 172,
   "id": "331dc085",
   "metadata": {
    "scrolled": true
   },
   "outputs": [
    {
     "name": "stdout",
     "output_type": "stream",
     "text": [
      "검색 단어 : 코딩 교육 \n",
      "\n",
      "[코딩교육 프로그램 강사 - 필수 교육]\n",
      "[50+자유학교] 앱코딩 (앱인벤터)\n",
      "드론코딩및스마트스포츠체험(코딩 교실)\n",
      "그래서 코딩이 필요합니다(초급)\n",
      "그래서 코딩이 필요합니다(중급)\n"
     ]
    }
   ],
   "source": [
    "print(f\"검색 단어 : {input_data}\")\n",
    "print()\n",
    "\n",
    "for i in data.iloc[temp.index][\"교육명\"] :\n",
    "    print( i )"
   ]
  },
  {
   "cell_type": "markdown",
   "id": "b00daadc",
   "metadata": {},
   "source": [
    "### 검색 단어 관련 교육 추천 기능 함수화"
   ]
  },
  {
   "cell_type": "code",
   "execution_count": 173,
   "id": "d154cd3a",
   "metadata": {},
   "outputs": [
    {
     "data": {
      "text/plain": [
       "(10694, 6)"
      ]
     },
     "execution_count": 173,
     "metadata": {},
     "output_type": "execute_result"
    }
   ],
   "source": [
    "data[::].shape"
   ]
  },
  {
   "cell_type": "code",
   "execution_count": 207,
   "id": "45108184",
   "metadata": {},
   "outputs": [],
   "source": [
    "def edu_recommend(input_data, data=data) :\n",
    "    # 입력 단어에 대한 임시 데이터 프레임 생성    \n",
    "    temp = pd.DataFrame({\n",
    "        \"번호\" : \"0000\",\n",
    "        \"교육명\": [input_data],\n",
    "        \"clean_sentence\" : clean_sentence(input_data),\n",
    "         \"okt\" : [\"123\"],\n",
    "         \"mecab\" : [\"123\"]\n",
    "    })\n",
    "\n",
    "    temp[\"okt\"] = temp[\"clean_sentence\"].apply(lambda x : tokenize(\"okt\", x, True) )\n",
    "    temp[\"mecab\"] = temp[\"clean_sentence\"].apply(lambda x : tokenize(\"mecab\", x, True) )\n",
    "\n",
    "    temp[\"okt\"] = temp[\"okt\"].apply(lambda x : str(x) for x in temp[\"okt\"])\n",
    "    temp[\"mecab\"] = temp[\"mecab\"].apply(lambda x : str(x) for x in temp[\"mecab\"])\n",
    "    \n",
    "    \n",
    "    # 검색 단어를 포함한 전체 데이터 프레임 \n",
    "    temp_total_data = data[::]\n",
    "    \n",
    "    temp_total_data = pd.concat([temp_total_data,temp])\n",
    "    temp_total_data = temp_total_data.reset_index( drop=True )\n",
    "    \n",
    "    \n",
    "    # TF-IDF 벡터화 \n",
    "    tfidf_vectorizer = TfidfVectorizer()\n",
    "    tfidf_mecab = tfidf_vectorizer.fit( temp_total_data[\"mecab\"] )\n",
    "    tfidf_mecab = tfidf_vectorizer.transform( temp_total_data[\"mecab\"] )\n",
    "    tfidf_norm_l1 = l1_normalize(tfidf_mecab)\n",
    "    \n",
    "    # 검색 단어 \n",
    "    target = tfidf_norm_l1[-1]\n",
    "    \n",
    "    # 코사인 유사도 적용\n",
    "    result = []\n",
    "\n",
    "    for i in tfidf_norm_l1 :\n",
    "        result.append( cosine_similarity_value(target, i) )\n",
    "        \n",
    "    temp_total_data[\"cosin\"] = result\n",
    "    \n",
    "    temp = temp_total_data.sort_values([\"cosin\"], ascending=False)[1:6]\n",
    "    \n",
    "    for i,j in zip(data.iloc[temp.index][\"교육명\"], data.iloc[temp.index][\"cosin\"]):\n",
    "        if j > 0 :\n",
    "            print( i,j )"
   ]
  },
  {
   "cell_type": "code",
   "execution_count": 208,
   "id": "8e522b2a",
   "metadata": {},
   "outputs": [
    {
     "name": "stdout",
     "output_type": "stream",
     "text": [
      "경비\n",
      "\n",
      "일반경비 신임교육 1기 0.134\n",
      "<일활동사업>중장년 일반경비신임교육 0.114\n",
      "\n",
      "CPU times: user 3.63 s, sys: 18.8 ms, total: 3.64 s\n",
      "Wall time: 5.18 s\n"
     ]
    }
   ],
   "source": [
    "%%time\n",
    "input_data = input()\n",
    "\n",
    "print()\n",
    "edu_recommend(input_data)\n",
    "print()"
   ]
  },
  {
   "cell_type": "code",
   "execution_count": 209,
   "id": "5ea78fae",
   "metadata": {},
   "outputs": [
    {
     "name": "stdout",
     "output_type": "stream",
     "text": [
      "경호\n",
      "\n",
      "\n",
      "CPU times: user 3.56 s, sys: 0 ns, total: 3.56 s\n",
      "Wall time: 4.67 s\n"
     ]
    }
   ],
   "source": [
    "%%time\n",
    "input_data = input()\n",
    "\n",
    "print()\n",
    "edu_recommend(input_data)\n",
    "print()"
   ]
  },
  {
   "cell_type": "code",
   "execution_count": null,
   "id": "870e5956",
   "metadata": {},
   "outputs": [],
   "source": []
  }
 ],
 "metadata": {
  "kernelspec": {
   "display_name": "Python 3 (ipykernel)",
   "language": "python",
   "name": "python3"
  },
  "language_info": {
   "codemirror_mode": {
    "name": "ipython",
    "version": 3
   },
   "file_extension": ".py",
   "mimetype": "text/x-python",
   "name": "python",
   "nbconvert_exporter": "python",
   "pygments_lexer": "ipython3",
   "version": "3.8.16"
  }
 },
 "nbformat": 4,
 "nbformat_minor": 5
}
